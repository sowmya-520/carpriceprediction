{
  "nbformat": 4,
  "nbformat_minor": 0,
  "metadata": {
    "colab": {
      "name": "CAP2.ipynb",
      "provenance": []
    },
    "kernelspec": {
      "name": "python3",
      "display_name": "Python 3"
    },
    "language_info": {
      "name": "python"
    }
  },
  "cells": [
    {
      "cell_type": "markdown",
      "metadata": {
        "id": "82fXAlY8RhTr"
      },
      "source": [
        "# **CAR PRICE PREDICTION**"
      ]
    },
    {
      "cell_type": "markdown",
      "metadata": {
        "id": "v8kXaEOuRjpH"
      },
      "source": [
        "# *Mounting Google Drive*"
      ]
    },
    {
      "cell_type": "code",
      "metadata": {
        "colab": {
          "base_uri": "https://localhost:8080/"
        },
        "id": "R_X4NYJbRi2p",
        "outputId": "b08eb21f-4742-4e70-c73e-561e160a7901"
      },
      "source": [
        "from google.colab import drive\n",
        "drive.mount('/content/drive')"
      ],
      "execution_count": null,
      "outputs": [
        {
          "output_type": "stream",
          "name": "stdout",
          "text": [
            "Drive already mounted at /content/drive; to attempt to forcibly remount, call drive.mount(\"/content/drive\", force_remount=True).\n"
          ]
        }
      ]
    },
    {
      "cell_type": "markdown",
      "metadata": {
        "id": "r-bhFR0mRsjv"
      },
      "source": [
        "# Importing *Libraries*"
      ]
    },
    {
      "cell_type": "code",
      "metadata": {
        "id": "4Wv6ZuPkR0yq"
      },
      "source": [
        "import pandas as pd\n",
        "import numpy as np\n",
        "import matplotlib.pyplot as plt\n"
      ],
      "execution_count": null,
      "outputs": []
    },
    {
      "cell_type": "markdown",
      "metadata": {
        "id": "0nM720mHS2DB"
      },
      "source": [
        "# *Loading the data*"
      ]
    },
    {
      "cell_type": "code",
      "metadata": {
        "colab": {
          "base_uri": "https://localhost:8080/",
          "height": 293
        },
        "id": "sxfogRGFS1aR",
        "outputId": "54f7386a-cef0-40cb-9342-d2eb34cd4741"
      },
      "source": [
        "car = pd.read_csv(\"/content/drive/MyDrive/Car details v3.csv\")\n",
        "car1=car.copy()\n",
        "car.head()"
      ],
      "execution_count": null,
      "outputs": [
        {
          "output_type": "execute_result",
          "data": {
            "text/html": [
              "<div>\n",
              "<style scoped>\n",
              "    .dataframe tbody tr th:only-of-type {\n",
              "        vertical-align: middle;\n",
              "    }\n",
              "\n",
              "    .dataframe tbody tr th {\n",
              "        vertical-align: top;\n",
              "    }\n",
              "\n",
              "    .dataframe thead th {\n",
              "        text-align: right;\n",
              "    }\n",
              "</style>\n",
              "<table border=\"1\" class=\"dataframe\">\n",
              "  <thead>\n",
              "    <tr style=\"text-align: right;\">\n",
              "      <th></th>\n",
              "      <th>name</th>\n",
              "      <th>year</th>\n",
              "      <th>selling_price</th>\n",
              "      <th>km_driven</th>\n",
              "      <th>fuel</th>\n",
              "      <th>seller_type</th>\n",
              "      <th>transmission</th>\n",
              "      <th>owner</th>\n",
              "      <th>mileage</th>\n",
              "      <th>engine</th>\n",
              "      <th>max_power</th>\n",
              "      <th>torque</th>\n",
              "      <th>seats</th>\n",
              "    </tr>\n",
              "  </thead>\n",
              "  <tbody>\n",
              "    <tr>\n",
              "      <th>0</th>\n",
              "      <td>Maruti Swift Dzire VDI</td>\n",
              "      <td>2014</td>\n",
              "      <td>450000</td>\n",
              "      <td>145500</td>\n",
              "      <td>Diesel</td>\n",
              "      <td>Individual</td>\n",
              "      <td>Manual</td>\n",
              "      <td>First Owner</td>\n",
              "      <td>23.4 kmpl</td>\n",
              "      <td>1248 CC</td>\n",
              "      <td>74 bhp</td>\n",
              "      <td>190Nm@ 2000rpm</td>\n",
              "      <td>5.0</td>\n",
              "    </tr>\n",
              "    <tr>\n",
              "      <th>1</th>\n",
              "      <td>Skoda Rapid 1.5 TDI Ambition</td>\n",
              "      <td>2014</td>\n",
              "      <td>370000</td>\n",
              "      <td>120000</td>\n",
              "      <td>Diesel</td>\n",
              "      <td>Individual</td>\n",
              "      <td>Manual</td>\n",
              "      <td>Second Owner</td>\n",
              "      <td>21.14 kmpl</td>\n",
              "      <td>1498 CC</td>\n",
              "      <td>103.52 bhp</td>\n",
              "      <td>250Nm@ 1500-2500rpm</td>\n",
              "      <td>5.0</td>\n",
              "    </tr>\n",
              "    <tr>\n",
              "      <th>2</th>\n",
              "      <td>Honda City 2017-2020 EXi</td>\n",
              "      <td>2006</td>\n",
              "      <td>158000</td>\n",
              "      <td>140000</td>\n",
              "      <td>Petrol</td>\n",
              "      <td>Individual</td>\n",
              "      <td>Manual</td>\n",
              "      <td>Third Owner</td>\n",
              "      <td>17.7 kmpl</td>\n",
              "      <td>1497 CC</td>\n",
              "      <td>78 bhp</td>\n",
              "      <td>12.7@ 2,700(kgm@ rpm)</td>\n",
              "      <td>5.0</td>\n",
              "    </tr>\n",
              "    <tr>\n",
              "      <th>3</th>\n",
              "      <td>Hyundai i20 Sportz Diesel</td>\n",
              "      <td>2010</td>\n",
              "      <td>225000</td>\n",
              "      <td>127000</td>\n",
              "      <td>Diesel</td>\n",
              "      <td>Individual</td>\n",
              "      <td>Manual</td>\n",
              "      <td>First Owner</td>\n",
              "      <td>23.0 kmpl</td>\n",
              "      <td>1396 CC</td>\n",
              "      <td>90 bhp</td>\n",
              "      <td>22.4 kgm at 1750-2750rpm</td>\n",
              "      <td>5.0</td>\n",
              "    </tr>\n",
              "    <tr>\n",
              "      <th>4</th>\n",
              "      <td>Maruti Swift VXI BSIII</td>\n",
              "      <td>2007</td>\n",
              "      <td>130000</td>\n",
              "      <td>120000</td>\n",
              "      <td>Petrol</td>\n",
              "      <td>Individual</td>\n",
              "      <td>Manual</td>\n",
              "      <td>First Owner</td>\n",
              "      <td>16.1 kmpl</td>\n",
              "      <td>1298 CC</td>\n",
              "      <td>88.2 bhp</td>\n",
              "      <td>11.5@ 4,500(kgm@ rpm)</td>\n",
              "      <td>5.0</td>\n",
              "    </tr>\n",
              "  </tbody>\n",
              "</table>\n",
              "</div>"
            ],
            "text/plain": [
              "                           name  year  ...                    torque  seats\n",
              "0        Maruti Swift Dzire VDI  2014  ...            190Nm@ 2000rpm    5.0\n",
              "1  Skoda Rapid 1.5 TDI Ambition  2014  ...       250Nm@ 1500-2500rpm    5.0\n",
              "2      Honda City 2017-2020 EXi  2006  ...     12.7@ 2,700(kgm@ rpm)    5.0\n",
              "3     Hyundai i20 Sportz Diesel  2010  ...  22.4 kgm at 1750-2750rpm    5.0\n",
              "4        Maruti Swift VXI BSIII  2007  ...     11.5@ 4,500(kgm@ rpm)    5.0\n",
              "\n",
              "[5 rows x 13 columns]"
            ]
          },
          "metadata": {},
          "execution_count": 3
        }
      ]
    },
    {
      "cell_type": "markdown",
      "metadata": {
        "id": "45a9U5oAS6er"
      },
      "source": [
        "# ***DATA PRE PROCESSING***"
      ]
    },
    {
      "cell_type": "code",
      "metadata": {
        "colab": {
          "base_uri": "https://localhost:8080/"
        },
        "id": "l23eYc8MS9-M",
        "outputId": "98c6d2e2-4dc7-43ff-e5ff-e54492ac8967"
      },
      "source": [
        "#Printing the info of all columns in dataset\n",
        "#and checking for null values\n",
        "print(car.info())"
      ],
      "execution_count": null,
      "outputs": [
        {
          "output_type": "stream",
          "name": "stdout",
          "text": [
            "<class 'pandas.core.frame.DataFrame'>\n",
            "RangeIndex: 8128 entries, 0 to 8127\n",
            "Data columns (total 13 columns):\n",
            " #   Column         Non-Null Count  Dtype  \n",
            "---  ------         --------------  -----  \n",
            " 0   name           8128 non-null   object \n",
            " 1   year           8128 non-null   int64  \n",
            " 2   selling_price  8128 non-null   int64  \n",
            " 3   km_driven      8128 non-null   int64  \n",
            " 4   fuel           8128 non-null   object \n",
            " 5   seller_type    8128 non-null   object \n",
            " 6   transmission   8128 non-null   object \n",
            " 7   owner          8128 non-null   object \n",
            " 8   mileage        7907 non-null   object \n",
            " 9   engine         7907 non-null   object \n",
            " 10  max_power      7913 non-null   object \n",
            " 11  torque         7906 non-null   object \n",
            " 12  seats          7907 non-null   float64\n",
            "dtypes: float64(1), int64(3), object(9)\n",
            "memory usage: 825.6+ KB\n",
            "None\n"
          ]
        }
      ]
    },
    {
      "cell_type": "markdown",
      "metadata": {
        "id": "wcEldRm3TB7C"
      },
      "source": [
        "# *Cleaning the data*"
      ]
    },
    {
      "cell_type": "code",
      "metadata": {
        "colab": {
          "base_uri": "https://localhost:8080/"
        },
        "id": "aatLS68QTDSP",
        "outputId": "9a3b8f69-a8a9-4057-d8f6-4f1c99a0835d"
      },
      "source": [
        "#Changing the values of mileage  example: from 23.4kmpl to 23.4\n",
        "#Changing the values of engine   example: from 1248CC   to 1248\n",
        "\n",
        "car['mileage']=car['mileage'].str.replace('kmpl',' ')\n",
        "car['mileage']=pd.to_numeric(car['mileage'],errors='coerce')\n",
        "car['max_power']=car['max_power'].str.replace('bhp',' ')\n",
        "car['max_power']=pd.to_numeric(car['max_power'],errors='coerce')\n",
        "car['engine']=car['engine'].str.replace('CC',' ')\n",
        "car['engine']=pd.to_numeric(car['engine'],errors='coerce')\n",
        "print(car['mileage'].sample(5))\n",
        "print(car['max_power'].sample(5))\n",
        "print(car['engine'].sample(5))"
      ],
      "execution_count": null,
      "outputs": [
        {
          "output_type": "stream",
          "name": "stdout",
          "text": [
            "2295    20.89\n",
            "7511    18.10\n",
            "5526    18.49\n",
            "1348    17.50\n",
            "1401    20.89\n",
            "Name: mileage, dtype: float64\n",
            "3739    67.10\n",
            "4210    74.00\n",
            "2999    63.00\n",
            "586     55.20\n",
            "6237    73.74\n",
            "Name: max_power, dtype: float64\n",
            "1195     796.0\n",
            "5212    1399.0\n",
            "1049     799.0\n",
            "8017    1396.0\n",
            "6397    1499.0\n",
            "Name: engine, dtype: float64\n"
          ]
        }
      ]
    },
    {
      "cell_type": "code",
      "metadata": {
        "colab": {
          "base_uri": "https://localhost:8080/",
          "height": 206
        },
        "id": "rtSKUpmCTG6a",
        "outputId": "499b7aaa-c6a2-46b5-cb95-3063ac49848b"
      },
      "source": [
        "#Dropping the torque column\n",
        "car.drop(['torque'],axis=1,inplace=True)\n",
        "car.head()"
      ],
      "execution_count": null,
      "outputs": [
        {
          "output_type": "execute_result",
          "data": {
            "text/html": [
              "<div>\n",
              "<style scoped>\n",
              "    .dataframe tbody tr th:only-of-type {\n",
              "        vertical-align: middle;\n",
              "    }\n",
              "\n",
              "    .dataframe tbody tr th {\n",
              "        vertical-align: top;\n",
              "    }\n",
              "\n",
              "    .dataframe thead th {\n",
              "        text-align: right;\n",
              "    }\n",
              "</style>\n",
              "<table border=\"1\" class=\"dataframe\">\n",
              "  <thead>\n",
              "    <tr style=\"text-align: right;\">\n",
              "      <th></th>\n",
              "      <th>name</th>\n",
              "      <th>year</th>\n",
              "      <th>selling_price</th>\n",
              "      <th>km_driven</th>\n",
              "      <th>fuel</th>\n",
              "      <th>seller_type</th>\n",
              "      <th>transmission</th>\n",
              "      <th>owner</th>\n",
              "      <th>mileage</th>\n",
              "      <th>engine</th>\n",
              "      <th>max_power</th>\n",
              "      <th>seats</th>\n",
              "    </tr>\n",
              "  </thead>\n",
              "  <tbody>\n",
              "    <tr>\n",
              "      <th>0</th>\n",
              "      <td>Maruti Swift Dzire VDI</td>\n",
              "      <td>2014</td>\n",
              "      <td>450000</td>\n",
              "      <td>145500</td>\n",
              "      <td>Diesel</td>\n",
              "      <td>Individual</td>\n",
              "      <td>Manual</td>\n",
              "      <td>First Owner</td>\n",
              "      <td>23.40</td>\n",
              "      <td>1248.0</td>\n",
              "      <td>74.00</td>\n",
              "      <td>5.0</td>\n",
              "    </tr>\n",
              "    <tr>\n",
              "      <th>1</th>\n",
              "      <td>Skoda Rapid 1.5 TDI Ambition</td>\n",
              "      <td>2014</td>\n",
              "      <td>370000</td>\n",
              "      <td>120000</td>\n",
              "      <td>Diesel</td>\n",
              "      <td>Individual</td>\n",
              "      <td>Manual</td>\n",
              "      <td>Second Owner</td>\n",
              "      <td>21.14</td>\n",
              "      <td>1498.0</td>\n",
              "      <td>103.52</td>\n",
              "      <td>5.0</td>\n",
              "    </tr>\n",
              "    <tr>\n",
              "      <th>2</th>\n",
              "      <td>Honda City 2017-2020 EXi</td>\n",
              "      <td>2006</td>\n",
              "      <td>158000</td>\n",
              "      <td>140000</td>\n",
              "      <td>Petrol</td>\n",
              "      <td>Individual</td>\n",
              "      <td>Manual</td>\n",
              "      <td>Third Owner</td>\n",
              "      <td>17.70</td>\n",
              "      <td>1497.0</td>\n",
              "      <td>78.00</td>\n",
              "      <td>5.0</td>\n",
              "    </tr>\n",
              "    <tr>\n",
              "      <th>3</th>\n",
              "      <td>Hyundai i20 Sportz Diesel</td>\n",
              "      <td>2010</td>\n",
              "      <td>225000</td>\n",
              "      <td>127000</td>\n",
              "      <td>Diesel</td>\n",
              "      <td>Individual</td>\n",
              "      <td>Manual</td>\n",
              "      <td>First Owner</td>\n",
              "      <td>23.00</td>\n",
              "      <td>1396.0</td>\n",
              "      <td>90.00</td>\n",
              "      <td>5.0</td>\n",
              "    </tr>\n",
              "    <tr>\n",
              "      <th>4</th>\n",
              "      <td>Maruti Swift VXI BSIII</td>\n",
              "      <td>2007</td>\n",
              "      <td>130000</td>\n",
              "      <td>120000</td>\n",
              "      <td>Petrol</td>\n",
              "      <td>Individual</td>\n",
              "      <td>Manual</td>\n",
              "      <td>First Owner</td>\n",
              "      <td>16.10</td>\n",
              "      <td>1298.0</td>\n",
              "      <td>88.20</td>\n",
              "      <td>5.0</td>\n",
              "    </tr>\n",
              "  </tbody>\n",
              "</table>\n",
              "</div>"
            ],
            "text/plain": [
              "                           name  year  selling_price  ...  engine max_power seats\n",
              "0        Maruti Swift Dzire VDI  2014         450000  ...  1248.0     74.00   5.0\n",
              "1  Skoda Rapid 1.5 TDI Ambition  2014         370000  ...  1498.0    103.52   5.0\n",
              "2      Honda City 2017-2020 EXi  2006         158000  ...  1497.0     78.00   5.0\n",
              "3     Hyundai i20 Sportz Diesel  2010         225000  ...  1396.0     90.00   5.0\n",
              "4        Maruti Swift VXI BSIII  2007         130000  ...  1298.0     88.20   5.0\n",
              "\n",
              "[5 rows x 12 columns]"
            ]
          },
          "metadata": {},
          "execution_count": 6
        }
      ]
    },
    {
      "cell_type": "code",
      "metadata": {
        "colab": {
          "base_uri": "https://localhost:8080/"
        },
        "id": "6R1bSUH7tB4U",
        "outputId": "d716cbe6-9b03-4dc9-d0c0-9f558493e4be"
      },
      "source": [
        "car.duplicated().sum()"
      ],
      "execution_count": null,
      "outputs": [
        {
          "output_type": "execute_result",
          "data": {
            "text/plain": [
              "1202"
            ]
          },
          "metadata": {},
          "execution_count": 7
        }
      ]
    },
    {
      "cell_type": "code",
      "metadata": {
        "colab": {
          "base_uri": "https://localhost:8080/",
          "height": 424
        },
        "id": "vbEV4QlytH93",
        "outputId": "9bcd6e3e-1a17-4776-cb47-d1c3763c60bc"
      },
      "source": [
        "car.drop_duplicates(keep=\"first\")"
      ],
      "execution_count": null,
      "outputs": [
        {
          "output_type": "execute_result",
          "data": {
            "text/html": [
              "<div>\n",
              "<style scoped>\n",
              "    .dataframe tbody tr th:only-of-type {\n",
              "        vertical-align: middle;\n",
              "    }\n",
              "\n",
              "    .dataframe tbody tr th {\n",
              "        vertical-align: top;\n",
              "    }\n",
              "\n",
              "    .dataframe thead th {\n",
              "        text-align: right;\n",
              "    }\n",
              "</style>\n",
              "<table border=\"1\" class=\"dataframe\">\n",
              "  <thead>\n",
              "    <tr style=\"text-align: right;\">\n",
              "      <th></th>\n",
              "      <th>name</th>\n",
              "      <th>year</th>\n",
              "      <th>selling_price</th>\n",
              "      <th>km_driven</th>\n",
              "      <th>fuel</th>\n",
              "      <th>seller_type</th>\n",
              "      <th>transmission</th>\n",
              "      <th>owner</th>\n",
              "      <th>mileage</th>\n",
              "      <th>engine</th>\n",
              "      <th>max_power</th>\n",
              "      <th>seats</th>\n",
              "    </tr>\n",
              "  </thead>\n",
              "  <tbody>\n",
              "    <tr>\n",
              "      <th>0</th>\n",
              "      <td>Maruti Swift Dzire VDI</td>\n",
              "      <td>2014</td>\n",
              "      <td>450000</td>\n",
              "      <td>145500</td>\n",
              "      <td>Diesel</td>\n",
              "      <td>Individual</td>\n",
              "      <td>Manual</td>\n",
              "      <td>First Owner</td>\n",
              "      <td>23.40</td>\n",
              "      <td>1248.0</td>\n",
              "      <td>74.00</td>\n",
              "      <td>5.0</td>\n",
              "    </tr>\n",
              "    <tr>\n",
              "      <th>1</th>\n",
              "      <td>Skoda Rapid 1.5 TDI Ambition</td>\n",
              "      <td>2014</td>\n",
              "      <td>370000</td>\n",
              "      <td>120000</td>\n",
              "      <td>Diesel</td>\n",
              "      <td>Individual</td>\n",
              "      <td>Manual</td>\n",
              "      <td>Second Owner</td>\n",
              "      <td>21.14</td>\n",
              "      <td>1498.0</td>\n",
              "      <td>103.52</td>\n",
              "      <td>5.0</td>\n",
              "    </tr>\n",
              "    <tr>\n",
              "      <th>2</th>\n",
              "      <td>Honda City 2017-2020 EXi</td>\n",
              "      <td>2006</td>\n",
              "      <td>158000</td>\n",
              "      <td>140000</td>\n",
              "      <td>Petrol</td>\n",
              "      <td>Individual</td>\n",
              "      <td>Manual</td>\n",
              "      <td>Third Owner</td>\n",
              "      <td>17.70</td>\n",
              "      <td>1497.0</td>\n",
              "      <td>78.00</td>\n",
              "      <td>5.0</td>\n",
              "    </tr>\n",
              "    <tr>\n",
              "      <th>3</th>\n",
              "      <td>Hyundai i20 Sportz Diesel</td>\n",
              "      <td>2010</td>\n",
              "      <td>225000</td>\n",
              "      <td>127000</td>\n",
              "      <td>Diesel</td>\n",
              "      <td>Individual</td>\n",
              "      <td>Manual</td>\n",
              "      <td>First Owner</td>\n",
              "      <td>23.00</td>\n",
              "      <td>1396.0</td>\n",
              "      <td>90.00</td>\n",
              "      <td>5.0</td>\n",
              "    </tr>\n",
              "    <tr>\n",
              "      <th>4</th>\n",
              "      <td>Maruti Swift VXI BSIII</td>\n",
              "      <td>2007</td>\n",
              "      <td>130000</td>\n",
              "      <td>120000</td>\n",
              "      <td>Petrol</td>\n",
              "      <td>Individual</td>\n",
              "      <td>Manual</td>\n",
              "      <td>First Owner</td>\n",
              "      <td>16.10</td>\n",
              "      <td>1298.0</td>\n",
              "      <td>88.20</td>\n",
              "      <td>5.0</td>\n",
              "    </tr>\n",
              "    <tr>\n",
              "      <th>...</th>\n",
              "      <td>...</td>\n",
              "      <td>...</td>\n",
              "      <td>...</td>\n",
              "      <td>...</td>\n",
              "      <td>...</td>\n",
              "      <td>...</td>\n",
              "      <td>...</td>\n",
              "      <td>...</td>\n",
              "      <td>...</td>\n",
              "      <td>...</td>\n",
              "      <td>...</td>\n",
              "      <td>...</td>\n",
              "    </tr>\n",
              "    <tr>\n",
              "      <th>8121</th>\n",
              "      <td>Maruti Wagon R VXI BS IV with ABS</td>\n",
              "      <td>2013</td>\n",
              "      <td>260000</td>\n",
              "      <td>50000</td>\n",
              "      <td>Petrol</td>\n",
              "      <td>Individual</td>\n",
              "      <td>Manual</td>\n",
              "      <td>Second Owner</td>\n",
              "      <td>18.90</td>\n",
              "      <td>998.0</td>\n",
              "      <td>67.10</td>\n",
              "      <td>5.0</td>\n",
              "    </tr>\n",
              "    <tr>\n",
              "      <th>8122</th>\n",
              "      <td>Hyundai i20 Magna 1.4 CRDi</td>\n",
              "      <td>2014</td>\n",
              "      <td>475000</td>\n",
              "      <td>80000</td>\n",
              "      <td>Diesel</td>\n",
              "      <td>Individual</td>\n",
              "      <td>Manual</td>\n",
              "      <td>Second Owner</td>\n",
              "      <td>22.54</td>\n",
              "      <td>1396.0</td>\n",
              "      <td>88.73</td>\n",
              "      <td>5.0</td>\n",
              "    </tr>\n",
              "    <tr>\n",
              "      <th>8123</th>\n",
              "      <td>Hyundai i20 Magna</td>\n",
              "      <td>2013</td>\n",
              "      <td>320000</td>\n",
              "      <td>110000</td>\n",
              "      <td>Petrol</td>\n",
              "      <td>Individual</td>\n",
              "      <td>Manual</td>\n",
              "      <td>First Owner</td>\n",
              "      <td>18.50</td>\n",
              "      <td>1197.0</td>\n",
              "      <td>82.85</td>\n",
              "      <td>5.0</td>\n",
              "    </tr>\n",
              "    <tr>\n",
              "      <th>8124</th>\n",
              "      <td>Hyundai Verna CRDi SX</td>\n",
              "      <td>2007</td>\n",
              "      <td>135000</td>\n",
              "      <td>119000</td>\n",
              "      <td>Diesel</td>\n",
              "      <td>Individual</td>\n",
              "      <td>Manual</td>\n",
              "      <td>Fourth &amp; Above Owner</td>\n",
              "      <td>16.80</td>\n",
              "      <td>1493.0</td>\n",
              "      <td>110.00</td>\n",
              "      <td>5.0</td>\n",
              "    </tr>\n",
              "    <tr>\n",
              "      <th>8125</th>\n",
              "      <td>Maruti Swift Dzire ZDi</td>\n",
              "      <td>2009</td>\n",
              "      <td>382000</td>\n",
              "      <td>120000</td>\n",
              "      <td>Diesel</td>\n",
              "      <td>Individual</td>\n",
              "      <td>Manual</td>\n",
              "      <td>First Owner</td>\n",
              "      <td>19.30</td>\n",
              "      <td>1248.0</td>\n",
              "      <td>73.90</td>\n",
              "      <td>5.0</td>\n",
              "    </tr>\n",
              "  </tbody>\n",
              "</table>\n",
              "<p>6926 rows × 12 columns</p>\n",
              "</div>"
            ],
            "text/plain": [
              "                                   name  year  ...  max_power  seats\n",
              "0                Maruti Swift Dzire VDI  2014  ...      74.00    5.0\n",
              "1          Skoda Rapid 1.5 TDI Ambition  2014  ...     103.52    5.0\n",
              "2              Honda City 2017-2020 EXi  2006  ...      78.00    5.0\n",
              "3             Hyundai i20 Sportz Diesel  2010  ...      90.00    5.0\n",
              "4                Maruti Swift VXI BSIII  2007  ...      88.20    5.0\n",
              "...                                 ...   ...  ...        ...    ...\n",
              "8121  Maruti Wagon R VXI BS IV with ABS  2013  ...      67.10    5.0\n",
              "8122         Hyundai i20 Magna 1.4 CRDi  2014  ...      88.73    5.0\n",
              "8123                  Hyundai i20 Magna  2013  ...      82.85    5.0\n",
              "8124              Hyundai Verna CRDi SX  2007  ...     110.00    5.0\n",
              "8125             Maruti Swift Dzire ZDi  2009  ...      73.90    5.0\n",
              "\n",
              "[6926 rows x 12 columns]"
            ]
          },
          "metadata": {},
          "execution_count": 8
        }
      ]
    },
    {
      "cell_type": "code",
      "metadata": {
        "colab": {
          "base_uri": "https://localhost:8080/",
          "height": 206
        },
        "id": "q6ChoVJntdDT",
        "outputId": "27726bbe-7751-4b3f-8617-7e9d600bce4d"
      },
      "source": [
        "#Extracting brand from name\n",
        "car['name']=car['name'].str.split(expand=True)[0]\n",
        "car.head()"
      ],
      "execution_count": null,
      "outputs": [
        {
          "output_type": "execute_result",
          "data": {
            "text/html": [
              "<div>\n",
              "<style scoped>\n",
              "    .dataframe tbody tr th:only-of-type {\n",
              "        vertical-align: middle;\n",
              "    }\n",
              "\n",
              "    .dataframe tbody tr th {\n",
              "        vertical-align: top;\n",
              "    }\n",
              "\n",
              "    .dataframe thead th {\n",
              "        text-align: right;\n",
              "    }\n",
              "</style>\n",
              "<table border=\"1\" class=\"dataframe\">\n",
              "  <thead>\n",
              "    <tr style=\"text-align: right;\">\n",
              "      <th></th>\n",
              "      <th>name</th>\n",
              "      <th>year</th>\n",
              "      <th>selling_price</th>\n",
              "      <th>km_driven</th>\n",
              "      <th>fuel</th>\n",
              "      <th>seller_type</th>\n",
              "      <th>transmission</th>\n",
              "      <th>owner</th>\n",
              "      <th>mileage</th>\n",
              "      <th>engine</th>\n",
              "      <th>max_power</th>\n",
              "      <th>seats</th>\n",
              "    </tr>\n",
              "  </thead>\n",
              "  <tbody>\n",
              "    <tr>\n",
              "      <th>0</th>\n",
              "      <td>Maruti</td>\n",
              "      <td>2014</td>\n",
              "      <td>450000</td>\n",
              "      <td>145500</td>\n",
              "      <td>Diesel</td>\n",
              "      <td>Individual</td>\n",
              "      <td>Manual</td>\n",
              "      <td>First Owner</td>\n",
              "      <td>23.40</td>\n",
              "      <td>1248.0</td>\n",
              "      <td>74.00</td>\n",
              "      <td>5.0</td>\n",
              "    </tr>\n",
              "    <tr>\n",
              "      <th>1</th>\n",
              "      <td>Skoda</td>\n",
              "      <td>2014</td>\n",
              "      <td>370000</td>\n",
              "      <td>120000</td>\n",
              "      <td>Diesel</td>\n",
              "      <td>Individual</td>\n",
              "      <td>Manual</td>\n",
              "      <td>Second Owner</td>\n",
              "      <td>21.14</td>\n",
              "      <td>1498.0</td>\n",
              "      <td>103.52</td>\n",
              "      <td>5.0</td>\n",
              "    </tr>\n",
              "    <tr>\n",
              "      <th>2</th>\n",
              "      <td>Honda</td>\n",
              "      <td>2006</td>\n",
              "      <td>158000</td>\n",
              "      <td>140000</td>\n",
              "      <td>Petrol</td>\n",
              "      <td>Individual</td>\n",
              "      <td>Manual</td>\n",
              "      <td>Third Owner</td>\n",
              "      <td>17.70</td>\n",
              "      <td>1497.0</td>\n",
              "      <td>78.00</td>\n",
              "      <td>5.0</td>\n",
              "    </tr>\n",
              "    <tr>\n",
              "      <th>3</th>\n",
              "      <td>Hyundai</td>\n",
              "      <td>2010</td>\n",
              "      <td>225000</td>\n",
              "      <td>127000</td>\n",
              "      <td>Diesel</td>\n",
              "      <td>Individual</td>\n",
              "      <td>Manual</td>\n",
              "      <td>First Owner</td>\n",
              "      <td>23.00</td>\n",
              "      <td>1396.0</td>\n",
              "      <td>90.00</td>\n",
              "      <td>5.0</td>\n",
              "    </tr>\n",
              "    <tr>\n",
              "      <th>4</th>\n",
              "      <td>Maruti</td>\n",
              "      <td>2007</td>\n",
              "      <td>130000</td>\n",
              "      <td>120000</td>\n",
              "      <td>Petrol</td>\n",
              "      <td>Individual</td>\n",
              "      <td>Manual</td>\n",
              "      <td>First Owner</td>\n",
              "      <td>16.10</td>\n",
              "      <td>1298.0</td>\n",
              "      <td>88.20</td>\n",
              "      <td>5.0</td>\n",
              "    </tr>\n",
              "  </tbody>\n",
              "</table>\n",
              "</div>"
            ],
            "text/plain": [
              "      name  year  selling_price  km_driven  ... mileage  engine max_power seats\n",
              "0   Maruti  2014         450000     145500  ...   23.40  1248.0     74.00   5.0\n",
              "1    Skoda  2014         370000     120000  ...   21.14  1498.0    103.52   5.0\n",
              "2    Honda  2006         158000     140000  ...   17.70  1497.0     78.00   5.0\n",
              "3  Hyundai  2010         225000     127000  ...   23.00  1396.0     90.00   5.0\n",
              "4   Maruti  2007         130000     120000  ...   16.10  1298.0     88.20   5.0\n",
              "\n",
              "[5 rows x 12 columns]"
            ]
          },
          "metadata": {},
          "execution_count": 9
        }
      ]
    },
    {
      "cell_type": "code",
      "metadata": {
        "colab": {
          "base_uri": "https://localhost:8080/"
        },
        "id": "9KuG7YESTLCD",
        "outputId": "044934a2-b784-4197-f435-0a5d18671775"
      },
      "source": [
        "print('transmission: ',car.transmission.unique())\n",
        "print('seller_type: ',car.seller_type.unique())\n",
        "print('fuel: ',car.fuel.unique())\n",
        "print('owner: ',car.owner.unique())"
      ],
      "execution_count": null,
      "outputs": [
        {
          "output_type": "stream",
          "name": "stdout",
          "text": [
            "transmission:  ['Manual' 'Automatic']\n",
            "seller_type:  ['Individual' 'Dealer' 'Trustmark Dealer']\n",
            "fuel:  ['Diesel' 'Petrol' 'LPG' 'CNG']\n",
            "owner:  ['First Owner' 'Second Owner' 'Third Owner' 'Fourth & Above Owner'\n",
            " 'Test Drive Car']\n"
          ]
        }
      ]
    },
    {
      "cell_type": "markdown",
      "metadata": {
        "id": "qbR_FDl9TQ0y"
      },
      "source": [
        "# *Categorical Conversion*"
      ]
    },
    {
      "cell_type": "code",
      "metadata": {
        "id": "vRbC8Ft0TSIJ"
      },
      "source": [
        "trans1=pd.get_dummies(car['transmission'],drop_first=True)\n",
        "car = pd.concat([car,trans1],axis=1)\n",
        "car.drop(['transmission'],axis=1,inplace=True)\n",
        "\n",
        "seller = pd.get_dummies(car['seller_type'],drop_first=True)\n",
        "car=pd.concat([car,seller],axis=1)\n",
        "car.drop(['seller_type'],axis=1,inplace=True)\n",
        "\n",
        "fuel1=pd.get_dummies(car['fuel'],drop_first=True)\n",
        "car=pd.concat([car,fuel1],axis=1)\n",
        "car.drop(['fuel'],axis=1,inplace=True)\n",
        "\n",
        "own=pd.get_dummies(car['owner'],drop_first=True)\n",
        "car = pd.concat([car,own],axis=1)\n",
        "car.drop(['owner'],axis=1,inplace=True)\n"
      ],
      "execution_count": null,
      "outputs": []
    },
    {
      "cell_type": "code",
      "metadata": {
        "colab": {
          "base_uri": "https://localhost:8080/",
          "height": 241
        },
        "id": "ARJLYjMaTYiY",
        "outputId": "77fd9e9c-1d1e-4978-a28f-e69f52a91f91"
      },
      "source": [
        "car.head()"
      ],
      "execution_count": null,
      "outputs": [
        {
          "output_type": "execute_result",
          "data": {
            "text/html": [
              "<div>\n",
              "<style scoped>\n",
              "    .dataframe tbody tr th:only-of-type {\n",
              "        vertical-align: middle;\n",
              "    }\n",
              "\n",
              "    .dataframe tbody tr th {\n",
              "        vertical-align: top;\n",
              "    }\n",
              "\n",
              "    .dataframe thead th {\n",
              "        text-align: right;\n",
              "    }\n",
              "</style>\n",
              "<table border=\"1\" class=\"dataframe\">\n",
              "  <thead>\n",
              "    <tr style=\"text-align: right;\">\n",
              "      <th></th>\n",
              "      <th>name</th>\n",
              "      <th>year</th>\n",
              "      <th>selling_price</th>\n",
              "      <th>km_driven</th>\n",
              "      <th>mileage</th>\n",
              "      <th>engine</th>\n",
              "      <th>max_power</th>\n",
              "      <th>seats</th>\n",
              "      <th>Manual</th>\n",
              "      <th>Individual</th>\n",
              "      <th>Trustmark Dealer</th>\n",
              "      <th>Diesel</th>\n",
              "      <th>LPG</th>\n",
              "      <th>Petrol</th>\n",
              "      <th>Fourth &amp; Above Owner</th>\n",
              "      <th>Second Owner</th>\n",
              "      <th>Test Drive Car</th>\n",
              "      <th>Third Owner</th>\n",
              "    </tr>\n",
              "  </thead>\n",
              "  <tbody>\n",
              "    <tr>\n",
              "      <th>0</th>\n",
              "      <td>Maruti</td>\n",
              "      <td>2014</td>\n",
              "      <td>450000</td>\n",
              "      <td>145500</td>\n",
              "      <td>23.40</td>\n",
              "      <td>1248.0</td>\n",
              "      <td>74.00</td>\n",
              "      <td>5.0</td>\n",
              "      <td>1</td>\n",
              "      <td>1</td>\n",
              "      <td>0</td>\n",
              "      <td>1</td>\n",
              "      <td>0</td>\n",
              "      <td>0</td>\n",
              "      <td>0</td>\n",
              "      <td>0</td>\n",
              "      <td>0</td>\n",
              "      <td>0</td>\n",
              "    </tr>\n",
              "    <tr>\n",
              "      <th>1</th>\n",
              "      <td>Skoda</td>\n",
              "      <td>2014</td>\n",
              "      <td>370000</td>\n",
              "      <td>120000</td>\n",
              "      <td>21.14</td>\n",
              "      <td>1498.0</td>\n",
              "      <td>103.52</td>\n",
              "      <td>5.0</td>\n",
              "      <td>1</td>\n",
              "      <td>1</td>\n",
              "      <td>0</td>\n",
              "      <td>1</td>\n",
              "      <td>0</td>\n",
              "      <td>0</td>\n",
              "      <td>0</td>\n",
              "      <td>1</td>\n",
              "      <td>0</td>\n",
              "      <td>0</td>\n",
              "    </tr>\n",
              "    <tr>\n",
              "      <th>2</th>\n",
              "      <td>Honda</td>\n",
              "      <td>2006</td>\n",
              "      <td>158000</td>\n",
              "      <td>140000</td>\n",
              "      <td>17.70</td>\n",
              "      <td>1497.0</td>\n",
              "      <td>78.00</td>\n",
              "      <td>5.0</td>\n",
              "      <td>1</td>\n",
              "      <td>1</td>\n",
              "      <td>0</td>\n",
              "      <td>0</td>\n",
              "      <td>0</td>\n",
              "      <td>1</td>\n",
              "      <td>0</td>\n",
              "      <td>0</td>\n",
              "      <td>0</td>\n",
              "      <td>1</td>\n",
              "    </tr>\n",
              "    <tr>\n",
              "      <th>3</th>\n",
              "      <td>Hyundai</td>\n",
              "      <td>2010</td>\n",
              "      <td>225000</td>\n",
              "      <td>127000</td>\n",
              "      <td>23.00</td>\n",
              "      <td>1396.0</td>\n",
              "      <td>90.00</td>\n",
              "      <td>5.0</td>\n",
              "      <td>1</td>\n",
              "      <td>1</td>\n",
              "      <td>0</td>\n",
              "      <td>1</td>\n",
              "      <td>0</td>\n",
              "      <td>0</td>\n",
              "      <td>0</td>\n",
              "      <td>0</td>\n",
              "      <td>0</td>\n",
              "      <td>0</td>\n",
              "    </tr>\n",
              "    <tr>\n",
              "      <th>4</th>\n",
              "      <td>Maruti</td>\n",
              "      <td>2007</td>\n",
              "      <td>130000</td>\n",
              "      <td>120000</td>\n",
              "      <td>16.10</td>\n",
              "      <td>1298.0</td>\n",
              "      <td>88.20</td>\n",
              "      <td>5.0</td>\n",
              "      <td>1</td>\n",
              "      <td>1</td>\n",
              "      <td>0</td>\n",
              "      <td>0</td>\n",
              "      <td>0</td>\n",
              "      <td>1</td>\n",
              "      <td>0</td>\n",
              "      <td>0</td>\n",
              "      <td>0</td>\n",
              "      <td>0</td>\n",
              "    </tr>\n",
              "  </tbody>\n",
              "</table>\n",
              "</div>"
            ],
            "text/plain": [
              "      name  year  selling_price  ...  Second Owner  Test Drive Car  Third Owner\n",
              "0   Maruti  2014         450000  ...             0               0            0\n",
              "1    Skoda  2014         370000  ...             1               0            0\n",
              "2    Honda  2006         158000  ...             0               0            1\n",
              "3  Hyundai  2010         225000  ...             0               0            0\n",
              "4   Maruti  2007         130000  ...             0               0            0\n",
              "\n",
              "[5 rows x 18 columns]"
            ]
          },
          "metadata": {},
          "execution_count": 12
        }
      ]
    },
    {
      "cell_type": "code",
      "metadata": {
        "id": "F-gteghVt34x"
      },
      "source": [
        "#dropping name \n",
        "car=car.drop(['name'],axis=1)"
      ],
      "execution_count": null,
      "outputs": []
    },
    {
      "cell_type": "markdown",
      "metadata": {
        "id": "AUU4yYQLTdau"
      },
      "source": [
        "# *Missing values treatment*"
      ]
    },
    {
      "cell_type": "code",
      "metadata": {
        "colab": {
          "base_uri": "https://localhost:8080/"
        },
        "id": "pFoWad0gTfGn",
        "outputId": "bc910b1d-ce3b-4835-ff66-7c96827c10a6"
      },
      "source": [
        "car.isnull().sum()"
      ],
      "execution_count": null,
      "outputs": [
        {
          "output_type": "execute_result",
          "data": {
            "text/plain": [
              "year                      0\n",
              "selling_price             0\n",
              "km_driven                 0\n",
              "mileage                 309\n",
              "engine                  221\n",
              "max_power               216\n",
              "seats                   221\n",
              "Manual                    0\n",
              "Individual                0\n",
              "Trustmark Dealer          0\n",
              "Diesel                    0\n",
              "LPG                       0\n",
              "Petrol                    0\n",
              "Fourth & Above Owner      0\n",
              "Second Owner              0\n",
              "Test Drive Car            0\n",
              "Third Owner               0\n",
              "dtype: int64"
            ]
          },
          "metadata": {},
          "execution_count": 14
        }
      ]
    },
    {
      "cell_type": "code",
      "metadata": {
        "id": "USBDrAQUTiKY"
      },
      "source": [
        "m1=np.mean(car['mileage']) \n",
        "m2=np.mean(car['engine']) \n",
        "m3=np.mean(car['max_power']) \n",
        "m4=np.mean(car['seats'])\n",
        "car_new=car.copy()\n",
        "car['mileage'].fillna(value=m1,inplace=True) \n",
        "car['engine'].fillna(value=m2,inplace=True)\n",
        "car['max_power'].fillna(value=m3,inplace=True)\n",
        "car['seats'].fillna(value=m4,inplace=True)"
      ],
      "execution_count": null,
      "outputs": []
    },
    {
      "cell_type": "code",
      "metadata": {
        "colab": {
          "base_uri": "https://localhost:8080/"
        },
        "id": "laL7R5nwToZN",
        "outputId": "38031ca6-b26e-4915-d92f-2e26c754098b"
      },
      "source": [
        "print(car.isnull().sum())"
      ],
      "execution_count": null,
      "outputs": [
        {
          "output_type": "stream",
          "name": "stdout",
          "text": [
            "year                    0\n",
            "selling_price           0\n",
            "km_driven               0\n",
            "mileage                 0\n",
            "engine                  0\n",
            "max_power               0\n",
            "seats                   0\n",
            "Manual                  0\n",
            "Individual              0\n",
            "Trustmark Dealer        0\n",
            "Diesel                  0\n",
            "LPG                     0\n",
            "Petrol                  0\n",
            "Fourth & Above Owner    0\n",
            "Second Owner            0\n",
            "Test Drive Car          0\n",
            "Third Owner             0\n",
            "dtype: int64\n"
          ]
        }
      ]
    },
    {
      "cell_type": "markdown",
      "metadata": {
        "id": "aWi_ce1ITsDd"
      },
      "source": [
        "# *Outliers Detection*"
      ]
    },
    {
      "cell_type": "code",
      "metadata": {
        "colab": {
          "base_uri": "https://localhost:8080/",
          "height": 495
        },
        "id": "lbZBsPCwTtlH",
        "outputId": "32c34338-36bf-4377-cc66-f5014483ad65"
      },
      "source": [
        "#Creating a box plot for the data\n",
        "plt.figure(figsize=(12,8))\n",
        "car.boxplot()\n",
        "plt.show()"
      ],
      "execution_count": null,
      "outputs": [
        {
          "output_type": "display_data",
          "data": {
            "image/png": "[encoded data removed]",
            "text/plain": [
              "<Figure size 864x576 with 1 Axes>"
            ]
          },
          "metadata": {
            "needs_background": "light"
          }
        }
      ]
    },
    {
      "cell_type": "markdown",
      "metadata": {
        "id": "zkeudLoKTzjl"
      },
      "source": [
        "# *Outliers Treatement*"
      ]
    },
    {
      "cell_type": "code",
      "metadata": {
        "id": "R9f4KW_LTvts"
      },
      "source": [
        "def outliers(df,ft):\n",
        "   Q1=df[ft].quantile(0.25)\n",
        "   Q3=df[ft].quantile(0.75)\n",
        "   IQR=Q3-Q1\n",
        "\n",
        "   lower_bound=Q1 - 1.5 * IQR\n",
        "   upper_bound=Q3 + 1.5 * IQR\n",
        "   \n",
        "   ls=df.index[(df[ft] < lower_bound) | (df[ft] > upper_bound) ]\n",
        "  \n",
        "   return ls "
      ],
      "execution_count": null,
      "outputs": []
    },
    {
      "cell_type": "code",
      "metadata": {
        "id": "LbQeviQkT5m8"
      },
      "source": [
        "index_list=[]\n",
        "for feature in ['year','selling_price','km_driven','mileage','engine','max_power','seats']:\n",
        "  index_list.extend(outliers(car,feature))\n"
      ],
      "execution_count": null,
      "outputs": []
    },
    {
      "cell_type": "code",
      "metadata": {
        "colab": {
          "base_uri": "https://localhost:8080/"
        },
        "id": "bF7KA4CKT9rM",
        "outputId": "19a09ac0-de37-4053-c9ec-c8805793c4b2"
      },
      "source": [
        "print(index_list)\n",
        "print(len(index_list))\n",
        "print(car.shape)"
      ],
      "execution_count": null,
      "outputs": [
        {
          "output_type": "stream",
          "name": "stdout",
          "text": [
            "[7, 177, 186, 316, 774, 808, 999, 1025, 1045, 1216, 1379, 1432, 1468, 1474, 1775, 1815, 1882, 1972, 2140, 2145, 2327, 2340, 2424, 2818, 2886, 3046, 3097, 3310, 3378, 3890, 3919, 3922, 4033, 4108, 4112, 4253, 4285, 4305, 4359, 4372, 4542, 4712, 4933, 5060, 5080, 5322, 5349, 5385, 5411, 5451, 5610, 5681, 5702, 5714, 5726, 5746, 5965, 5992, 6164, 6320, 6387, 6436, 6521, 6639, 6730, 6776, 6919, 6920, 6933, 7218, 7471, 7524, 7765, 7846, 7935, 7958, 7982, 7996, 8025, 8042, 8115, 41, 47, 49, 55, 57, 58, 59, 60, 75, 82, 110, 131, 132, 133, 134, 135, 136, 137, 138, 139, 140, 141, 142, 145, 146, 148, 151, 156, 158, 163, 165, 166, 167, 170, 187, 257, 288, 350, 362, 370, 371, 372, 374, 375, 384, 385, 388, 409, 410, 411, 413, 414, 423, 424, 427, 452, 468, 470, 526, 550, 569, 595, 600, 646, 647, 648, 650, 651, 660, 661, 664, 681, 742, 906, 970, 1007, 1039, 1057, 1060, 1063, 1064, 1065, 1066, 1067, 1071, 1073, 1075, 1077, 1078, 1079, 1081, 1082, 1091, 1092, 1095, 1096, 1097, 1098, 1100, 1101, 1110, 1111, 1114, 1115, 1116, 1117, 1119, 1120, 1129, 1130, 1133, 1134, 1135, 1136, 1138, 1139, 1148, 1149, 1152, 1255, 1360, 1397, 1410, 1530, 1540, 1561, 1562, 1563, 1564, 1572, 1586, 1590, 1636, 1674, 1676, 1689, 1709, 1710, 1711, 1713, 1714, 1723, 1724, 1727, 1748, 1752, 1767, 1821, 1828, 1830, 1834, 1835, 1857, 1858, 1859, 1860, 1863, 1871, 1872, 1906, 1923, 1969, 1977, 1978, 1979, 1980, 1984, 1989, 1990, 1993, 1994, 2012, 2038, 2106, 2109, 2129, 2131, 2135, 2137, 2229, 2397, 2537, 2619, 2622, 2630, 2631, 2632, 2634, 2635, 2644, 2645, 2648, 2657, 2663, 2664, 2665, 2667, 2668, 2677, 2678, 2681, 2702, 2704, 2705, 2795, 2823, 2826, 2827, 2828, 2829, 2832, 2840, 2866, 2881, 2918, 2938, 2943, 3066, 3078, 3079, 3080, 3082, 3083, 3092, 3093, 3096, 3110, 3111, 3184, 3214, 3236, 3237, 3238, 3239, 3240, 3241, 3242, 3243, 3245, 3248, 3251, 3351, 3352, 3357, 3360, 3392, 3408, 3409, 3410, 3412, 3413, 3422, 3423, 3426, 3449, 3456, 3516, 3517, 3518, 3520, 3521, 3530, 3531, 3534, 3542, 3572, 3605, 3607, 3611, 3686, 3725, 3749, 3775, 3831, 3832, 3833, 3835, 3836, 3845, 3846, 3849, 3871, 3938, 3964, 3987, 4019, 4030, 4080, 4083, 4086, 4089, 4090, 4091, 4093, 4097, 4101, 4136, 4179, 4180, 4195, 4196, 4208, 4215, 4216, 4217, 4219, 4220, 4229, 4230, 4233, 4234, 4235, 4236, 4238, 4239, 4248, 4249, 4252, 4255, 4256, 4257, 4259, 4260, 4269, 4270, 4273, 4320, 4321, 4322, 4324, 4325, 4334, 4335, 4338, 4356, 4364, 4375, 4377, 4380, 4383, 4384, 4393, 4395, 4399, 4414, 4415, 4416, 4418, 4419, 4428, 4429, 4432, 4504, 4511, 4525, 4527, 4589, 4670, 4671, 4675, 4676, 4678, 4680, 4682, 4704, 4706, 4707, 4738, 4739, 4753, 4757, 4758, 4763, 4766, 4772, 4782, 4785, 4787, 4788, 4789, 4791, 4796, 4799, 4815, 4816, 4817, 4819, 4820, 4829, 4830, 4833, 4851, 4940, 4941, 4945, 4950, 4951, 4952, 5020, 5036, 5077, 5083, 5084, 5085, 5087, 5088, 5097, 5098, 5101, 5124, 5126, 5188, 5245, 5246, 5247, 5248, 5249, 5252, 5253, 5255, 5256, 5257, 5258, 5259, 5261, 5262, 5283, 5312, 5318, 5321, 5355, 5430, 5506, 5511, 5528, 5538, 5614, 5615, 5616, 5618, 5619, 5628, 5629, 5632, 5647, 5710, 5774, 5823, 5828, 5836, 5858, 5897, 5985, 6042, 6043, 6044, 6046, 6103, 6104, 6166, 6167, 6168, 6170, 6171, 6180, 6181, 6184, 6213, 6215, 6217, 6220, 6248, 6255, 6258, 6279, 6282, 6296, 6297, 6308, 6327, 6364, 6371, 6456, 6468, 6554, 6555, 6556, 6558, 6559, 6568, 6569, 6572, 6573, 6574, 6575, 6577, 6578, 6587, 6588, 6591, 6638, 6681, 6689, 6690, 6691, 6693, 6694, 6703, 6704, 6707, 6720, 6724, 6820, 6881, 6895, 6900, 6903, 6959, 6960, 6961, 6963, 6964, 6973, 6974, 6977, 6989, 6999, 7007, 7047, 7077, 7129, 7174, 7176, 7178, 7189, 7324, 7325, 7326, 7331, 7337, 7340, 7343, 7368, 7370, 7374, 7379, 7411, 7447, 7477, 7495, 7506, 7508, 7516, 7522, 7561, 7596, 7661, 7699, 7700, 7701, 7702, 7703, 7705, 7709, 7710, 7711, 7713, 7716, 7744, 7747, 7749, 7756, 7757, 7772, 7775, 7792, 7797, 7808, 7840, 7858, 7859, 7860, 7862, 7863, 7872, 7873, 7876, 7892, 7906, 7919, 7920, 7922, 7925, 7930, 7931, 7949, 7967, 7973, 8058, 8108, 272, 287, 394, 396, 397, 401, 461, 508, 597, 886, 903, 960, 962, 994, 998, 1025, 1237, 1243, 1251, 1257, 1261, 1295, 1348, 1629, 1656, 1796, 1810, 1880, 1919, 1965, 1997, 2006, 2036, 2094, 2272, 2293, 2402, 2559, 2579, 2584, 2591, 2707, 2726, 2761, 2805, 2865, 2977, 2999, 3047, 3120, 3168, 3303, 3326, 3435, 3486, 3504, 3508, 3513, 3583, 3584, 3588, 3641, 3679, 3714, 3852, 3873, 3874, 3888, 3944, 4011, 4046, 4061, 4117, 4278, 4287, 4319, 4352, 4491, 4502, 4507, 4570, 4572, 4630, 4653, 4654, 4664, 4708, 4752, 4861, 4953, 4954, 4961, 4998, 5057, 5060, 5106, 5140, 5189, 5193, 5212, 5227, 5228, 5279, 5323, 5349, 5422, 5445, 5450, 5459, 5467, 5493, 5570, 5598, 5683, 5694, 5712, 5770, 5808, 5813, 5818, 5871, 5949, 5981, 5998, 6061, 6200, 6250, 6418, 6539, 6544, 6547, 6633, 6643, 6648, 6673, 6713, 6715, 6755, 6775, 6782, 7042, 7064, 7102, 7116, 7148, 7152, 7224, 7259, 7355, 7435, 7471, 7498, 7524, 7627, 7631, 7633, 7640, 7645, 7691, 7810, 7811, 7818, 7945, 7969, 8030, 8031, 8033, 8071, 8077, 8095, 170, 644, 785, 1649, 1676, 2137, 2366, 2725, 4527, 5276, 5843, 5846, 5900, 6534, 6629, 6824, 7002, 7337, 39, 47, 48, 51, 55, 56, 75, 80, 105, 110, 132, 134, 136, 146, 148, 149, 163, 166, 168, 187, 212, 219, 233, 239, 243, 244, 257, 265, 270, 271, 276, 277, 285, 286, 287, 297, 318, 330, 350, 358, 359, 371, 373, 375, 379, 391, 394, 404, 410, 412, 414, 418, 432, 435, 447, 452, 457, 461, 463, 468, 470, 506, 515, 543, 544, 548, 550, 579, 584, 587, 588, 595, 600, 603, 609, 622, 627, 628, 632, 637, 640, 641, 642, 647, 649, 651, 655, 668, 682, 686, 694, 697, 701, 703, 710, 711, 715, 716, 722, 724, 726, 727, 734, 735, 736, 742, 751, 752, 755, 764, 765, 770, 772, 775, 778, 781, 783, 784, 787, 793, 816, 820, 838, 840, 851, 875, 877, 883, 886, 890, 894, 903, 904, 924, 925, 926, 941, 959, 960, 962, 963, 964, 970, 971, 984, 985, 989, 991, 994, 997, 1001, 1005, 1007, 1014, 1019, 1037, 1038, 1039, 1040, 1043, 1044, 1057, 1066, 1071, 1073, 1075, 1078, 1080, 1082, 1086, 1097, 1099, 1101, 1105, 1116, 1118, 1120, 1124, 1135, 1137, 1139, 1143, 1156, 1165, 1168, 1178, 1180, 1181, 1190, 1191, 1192, 1193, 1201, 1203, 1206, 1218, 1221, 1227, 1237, 1257, 1261, 1271, 1284, 1285, 1296, 1298, 1299, 1302, 1336, 1337, 1354, 1360, 1364, 1369, 1370, 1376, 1382, 1392, 1397, 1412, 1424, 1461, 1463, 1467, 1469, 1470, 1489, 1495, 1497, 1498, 1513, 1515, 1530, 1535, 1540, 1554, 1562, 1564, 1572, 1582, 1586, 1588, 1590, 1592, 1599, 1600, 1602, 1605, 1606, 1629, 1636, 1639, 1640, 1655, 1676, 1706, 1710, 1712, 1714, 1718, 1737, 1738, 1748, 1752, 1753, 1755, 1757, 1762, 1786, 1796, 1810, 1816, 1818, 1820, 1821, 1826, 1827, 1830, 1834, 1839, 1853, 1858, 1860, 1863, 1867, 1894, 1900, 1902, 1906, 1909, 1910, 1912, 1913, 1914, 1915, 1917, 1923, 1930, 1937, 1949, 1969, 1980, 1982, 1987, 1997, 2006, 2011, 2015, 2016, 2022, 2025, 2036, 2043, 2046, 2048, 2051, 2064, 2071, 2075, 2080, 2081, 2084, 2087, 2090, 2091, 2094, 2103, 2106, 2115, 2117, 2118, 2126, 2129, 2131, 2132, 2134, 2135, 2137, 2155, 2168, 2169, 2170, 2172, 2181, 2186, 2202, 2204, 2223, 2234, 2235, 2238, 2249, 2272, 2281, 2293, 2294, 2297, 2308, 2328, 2331, 2365, 2367, 2383, 2397, 2400, 2402, 2407, 2413, 2416, 2433, 2434, 2436, 2444, 2450, 2462, 2467, 2472, 2478, 2480, 2488, 2490, 2537, 2539, 2541, 2556, 2559, 2561, 2581, 2585, 2586, 2592, 2593, 2619, 2622, 2627, 2631, 2633, 2635, 2639, 2657, 2661, 2664, 2666, 2668, 2672, 2684, 2685, 2686, 2694, 2698, 2702, 2705, 2707, 2722, 2769, 2771, 2778, 2780, 2781, 2782, 2794, 2805, 2815, 2823, 2826, 2838, 2839, 2845, 2846, 2857, 2865, 2870, 2875, 2878, 2881, 2882, 2907, 2918, 2919, 2923, 2929, 2931, 2938, 2943, 2948, 2953, 2961, 2970, 2975, 2977, 2981, 2983, 2993, 2999, 3024, 3039, 3040, 3041, 3043, 3047, 3048, 3057, 3061, 3066, 3067, 3079, 3081, 3083, 3087, 3111, 3120, 3131, 3143, 3156, 3159, 3168, 3169, 3171, 3182, 3184, 3203, 3209, 3212, 3214, 3224, 3237, 3239, 3242, 3245, 3246, 3248, 3253, 3259, 3260, 3270, 3283, 3285, 3287, 3296, 3298, 3321, 3325, 3326, 3342, 3343, 3352, 3357, 3360, 3375, 3394, 3401, 3403, 3409, 3411, 3413, 3417, 3443, 3449, 3450, 3461, 3465, 3489, 3497, 3500, 3513, 3517, 3519, 3521, 3525, 3537, 3542, 3544, 3564, 3572, 3575, 3577, 3582, 3583, 3584, 3588, 3604, 3605, 3611, 3614, 3623, 3625, 3631, 3632, 3633, 3642, 3643, 3644, 3646, 3660, 3666, 3668, 3669, 3670, 3677, 3679, 3685, 3686, 3687, 3694, 3703, 3711, 3712, 3714, 3717, 3718, 3725, 3749, 3758, 3775, 3778, 3785, 3788, 3794, 3814, 3821, 3832, 3834, 3836, 3840, 3852, 3855, 3858, 3861, 3871, 3873, 3874, 3875, 3888, 3891, 3895, 3904, 3914, 3915, 3953, 3954, 3955, 3981, 3985, 3987, 3988, 3991, 4010, 4019, 4020, 4030, 4046, 4055, 4058, 4065, 4070, 4080, 4083, 4093, 4094, 4101, 4105, 4114, 4116, 4123, 4131, 4132, 4133, 4164, 4166, 4174, 4175, 4177, 4179, 4180, 4182, 4184, 4192, 4196, 4214, 4216, 4218, 4220, 4224, 4235, 4237, 4239, 4243, 4256, 4258, 4260, 4264, 4278, 4287, 4297, 4298, 4319, 4321, 4323, 4325, 4329, 4341, 4343, 4356, 4364, 4369, 4376, 4395, 4398, 4407, 4408, 4413, 4415, 4417, 4419, 4423, 4449, 4452, 4453, 4464, 4477, 4492, 4497, 4502, 4504, 4511, 4527, 4566, 4570, 4572, 4580, 4582, 4589, 4592, 4611, 4615, 4616, 4617, 4621, 4626, 4627, 4630, 4631, 4651, 4652, 4653, 4654, 4663, 4664, 4665, 4667, 4679, 4680, 4686, 4692, 4704, 4706, 4707, 4709, 4717, 4719, 4723, 4724, 4726, 4739, 4741, 4752, 4753, 4758, 4765, 4766, 4772, 4774, 4776, 4787, 4791, 4796, 4800, 4806, 4816, 4818, 4820, 4824, 4835, 4845, 4851, 4861, 4874, 4882, 4891, 4894, 4896, 4900, 4914, 4923, 4924, 4926, 4941, 4943, 4953, 4955, 4970, 4972, 4982, 4984, 4991, 4992, 4995, 4998, 4999, 5008, 5027, 5032, 5036, 5041, 5062, 5082, 5084, 5086, 5088, 5092, 5106, 5110, 5112, 5114, 5122, 5124, 5141, 5152, 5153, 5156, 5159, 5165, 5166, 5169, 5170, 5172, 5175, 5179, 5182, 5183, 5189, 5194, 5200, 5207, 5211, 5223, 5226, 5230, 5237, 5238, 5246, 5248, 5249, 5251, 5258, 5262, 5266, 5279, 5283, 5298, 5300, 5312, 5314, 5315, 5318, 5321, 5323, 5334, 5337, 5339, 5363, 5371, 5373, 5387, 5414, 5420, 5422, 5450, 5458, 5467, 5476, 5482, 5485, 5493, 5502, 5519, 5528, 5538, 5549, 5558, 5582, 5587, 5608, 5611, 5615, 5617, 5619, 5623, 5647, 5661, 5662, 5664, 5689, 5705, 5710, 5712, 5713, 5720, 5722, 5723, 5737, 5752, 5753, 5760, 5774, 5790, 5799, 5802, 5809, 5813, 5821, 5822, 5823, 5834, 5859, 5869, 5871, 5879, 5882, 5888, 5897, 5900, 5913, 5917, 5922, 5933, 5949, 5950, 5952, 5962, 5971, 5985, 5995, 6028, 6042, 6043, 6045, 6051, 6078, 6085, 6149, 6167, 6169, 6171, 6175, 6195, 6197, 6200, 6207, 6215, 6217, 6219, 6234, 6238, 6248, 6250, 6255, 6258, 6264, 6279, 6288, 6296, 6297, 6308, 6316, 6330, 6332, 6347, 6357, 6371, 6389, 6392, 6410, 6433, 6438, 6439, 6440, 6441, 6443, 6455, 6456, 6457, 6468, 6486, 6498, 6502, 6508, 6525, 6526, 6533, 6555, 6557, 6559, 6563, 6574, 6576, 6578, 6582, 6596, 6597, 6600, 6603, 6610, 6611, 6624, 6626, 6629, 6638, 6643, 6648, 6653, 6657, 6670, 6673, 6690, 6692, 6694, 6698, 6708, 6709, 6713, 6715, 6724, 6747, 6755, 6759, 6785, 6793, 6800, 6803, 6820, 6828, 6829, 6834, 6842, 6843, 6850, 6853, 6854, 6861, 6865, 6874, 6875, 6876, 6878, 6881, 6883, 6895, 6902, 6903, 6940, 6941, 6945, 6949, 6957, 6960, 6962, 6964, 6968, 6984, 6988, 6989, 6991, 6999, 7003, 7006, 7007, 7017, 7022, 7042, 7044, 7047, 7048, 7049, 7050, 7052, 7055, 7058, 7064, 7071, 7078, 7080, 7082, 7084, 7098, 7102, 7106, 7117, 7118, 7125, 7130, 7131, 7133, 7150, 7152, 7162, 7163, 7174, 7176, 7190, 7212, 7224, 7231, 7239, 7247, 7259, 7274, 7277, 7278, 7303, 7318, 7331, 7335, 7336, 7341, 7345, 7350, 7370, 7375, 7381, 7394, 7398, 7404, 7411, 7426, 7427, 7435, 7436, 7439, 7462, 7466, 7487, 7498, 7506, 7514, 7522, 7548, 7554, 7561, 7575, 7587, 7596, 7606, 7618, 7630, 7631, 7633, 7650, 7655, 7660, 7661, 7698, 7701, 7703, 7704, 7705, 7707, 7712, 7713, 7716, 7732, 7736, 7745, 7746, 7748, 7749, 7753, 7767, 7775, 7778, 7780, 7781, 7784, 7791, 7792, 7798, 7808, 7813, 7818, 7819, 7838, 7839, 7840, 7841, 7844, 7845, 7859, 7861, 7863, 7867, 7887, 7892, 7902, 7906, 7920, 7925, 7931, 7945, 7949, 7969, 7973, 8018, 8022, 8023, 8030, 8052, 8057, 8067, 8071, 8077, 8080, 8099, 8113, 41, 47, 51, 55, 57, 59, 60, 75, 82, 108, 110, 131, 132, 133, 134, 136, 137, 139, 140, 141, 145, 146, 148, 151, 156, 158, 163, 165, 166, 167, 168, 170, 187, 233, 257, 265, 288, 350, 362, 369, 370, 371, 372, 374, 375, 384, 385, 391, 409, 410, 411, 413, 414, 423, 424, 452, 468, 470, 526, 550, 569, 575, 576, 588, 600, 628, 646, 647, 648, 650, 651, 660, 661, 681, 682, 716, 778, 904, 970, 984, 1039, 1057, 1060, 1066, 1071, 1073, 1075, 1077, 1078, 1079, 1081, 1082, 1091, 1092, 1096, 1097, 1098, 1100, 1101, 1110, 1111, 1115, 1116, 1117, 1119, 1120, 1129, 1130, 1134, 1135, 1136, 1138, 1139, 1148, 1149, 1255, 1296, 1299, 1364, 1410, 1411, 1440, 1442, 1443, 1461, 1530, 1540, 1561, 1562, 1563, 1564, 1572, 1586, 1590, 1655, 1676, 1708, 1709, 1710, 1711, 1713, 1714, 1723, 1724, 1748, 1767, 1816, 1821, 1827, 1828, 1830, 1834, 1853, 1857, 1858, 1859, 1860, 1863, 1871, 1872, 1906, 1923, 1969, 1977, 1979, 1980, 1990, 1993, 2038, 2062, 2065, 2069, 2072, 2087, 2129, 2131, 2134, 2135, 2400, 2413, 2450, 2462, 2488, 2537, 2549, 2550, 2619, 2622, 2630, 2631, 2632, 2634, 2635, 2644, 2645, 2657, 2663, 2664, 2665, 2667, 2668, 2677, 2678, 2702, 2705, 2708, 2722, 2795, 2823, 2826, 2827, 2828, 2829, 2832, 2840, 2865, 2866, 2881, 2918, 2938, 2950, 2970, 2975, 3078, 3079, 3080, 3082, 3083, 3092, 3093, 3107, 3110, 3111, 3161, 3214, 3236, 3237, 3238, 3239, 3241, 3242, 3243, 3245, 3246, 3248, 3251, 3298, 3321, 3351, 3352, 3357, 3408, 3409, 3410, 3412, 3413, 3422, 3423, 3449, 3458, 3461, 3516, 3517, 3518, 3520, 3521, 3530, 3531, 3542, 3572, 3604, 3605, 3607, 3611, 3643, 3686, 3717, 3775, 3831, 3832, 3833, 3835, 3836, 3845, 3846, 3852, 3871, 3938, 3983, 4019, 4030, 4046, 4083, 4086, 4093, 4101, 4179, 4180, 4196, 4215, 4216, 4217, 4219, 4220, 4229, 4230, 4234, 4235, 4236, 4238, 4239, 4248, 4249, 4255, 4256, 4257, 4259, 4260, 4269, 4270, 4299, 4308, 4320, 4321, 4322, 4324, 4325, 4334, 4335, 4356, 4364, 4375, 4380, 4384, 4390, 4391, 4393, 4395, 4399, 4414, 4415, 4416, 4418, 4419, 4428, 4429, 4527, 4592, 4665, 4670, 4671, 4675, 4676, 4678, 4680, 4682, 4686, 4692, 4704, 4707, 4738, 4739, 4741, 4753, 4757, 4763, 4765, 4766, 4772, 4776, 4782, 4785, 4787, 4788, 4789, 4796, 4799, 4815, 4816, 4817, 4819, 4820, 4829, 4830, 4845, 4880, 4901, 4940, 4941, 4945, 4950, 4951, 4952, 4953, 4982, 4999, 5020, 5077, 5083, 5084, 5085, 5087, 5088, 5097, 5098, 5124, 5126, 5152, 5153, 5156, 5178, 5188, 5245, 5246, 5247, 5248, 5249, 5252, 5253, 5256, 5258, 5259, 5261, 5262, 5283, 5318, 5355, 5394, 5400, 5506, 5528, 5547, 5608, 5614, 5615, 5616, 5618, 5619, 5628, 5629, 5647, 5710, 5796, 5799, 5813, 5823, 5828, 5858, 5942, 5962, 5985, 5989, 6042, 6044, 6103, 6104, 6166, 6167, 6168, 6170, 6171, 6180, 6181, 6213, 6215, 6217, 6255, 6258, 6279, 6282, 6337, 6371, 6456, 6468, 6525, 6554, 6555, 6556, 6558, 6559, 6568, 6569, 6573, 6574, 6575, 6577, 6578, 6587, 6588, 6597, 6645, 6681, 6689, 6690, 6691, 6693, 6694, 6703, 6704, 6720, 6724, 6741, 6881, 6900, 6959, 6960, 6961, 6963, 6964, 6973, 6974, 6999, 7007, 7039, 7047, 7129, 7162, 7163, 7176, 7178, 7212, 7278, 7324, 7326, 7331, 7335, 7336, 7337, 7340, 7343, 7374, 7379, 7403, 7404, 7477, 7495, 7506, 7508, 7514, 7516, 7522, 7553, 7554, 7596, 7632, 7661, 7699, 7700, 7701, 7702, 7703, 7705, 7709, 7710, 7713, 7716, 7744, 7749, 7756, 7757, 7775, 7778, 7792, 7806, 7808, 7811, 7820, 7840, 7858, 7859, 7860, 7862, 7863, 7872, 7873, 7906, 7919, 7920, 7930, 7931, 7967, 8023, 8052, 8057, 8058, 7, 13, 16, 27, 29, 31, 35, 39, 40, 47, 48, 51, 55, 56, 75, 77, 78, 80, 87, 103, 105, 110, 119, 127, 129, 135, 138, 146, 157, 163, 169, 170, 177, 187, 188, 199, 200, 206, 212, 219, 228, 233, 234, 238, 239, 243, 244, 249, 252, 257, 258, 265, 270, 271, 276, 277, 285, 286, 287, 289, 297, 306, 310, 313, 316, 318, 330, 336, 340, 350, 358, 359, 363, 373, 379, 390, 394, 404, 412, 418, 432, 435, 437, 441, 444, 447, 452, 457, 461, 463, 466, 468, 470, 471, 475, 476, 483, 487, 500, 506, 515, 516, 519, 531, 532, 535, 539, 543, 544, 548, 550, 556, 570, 575, 576, 577, 579, 584, 587, 588, 595, 600, 603, 604, 609, 610, 613, 616, 621, 622, 627, 632, 637, 640, 641, 642, 649, 655, 665, 668, 673, 676, 682, 683, 686, 688, 694, 697, 701, 703, 704, 709, 710, 711, 714, 718, 722, 724, 725, 726, 727, 734, 735, 736, 742, 743, 744, 747, 750, 751, 752, 755, 756, 764, 765, 770, 772, 774, 776, 778, 781, 783, 784, 787, 791, 793, 795, 797, 800, 808, 810, 812, 814, 816, 818, 820, 829, 838, 840, 846, 851, 855, 859, 862, 865, 875, 877, 881, 886, 890, 891, 894, 901, 903, 904, 915, 916, 918, 922, 924, 925, 926, 930, 938, 941, 954, 956, 959, 960, 962, 963, 964, 970, 971, 984, 985, 989, 990, 991, 992, 994, 997, 999, 1001, 1005, 1007, 1014, 1015, 1019, 1037, 1038, 1039, 1040, 1041, 1042, 1043, 1044, 1045, 1050, 1052, 1057, 1062, 1066, 1071, 1073, 1075, 1080, 1086, 1099, 1105, 1118, 1124, 1137, 1143, 1156, 1168, 1169, 1178, 1180, 1181, 1183, 1184, 1185, 1190, 1191, 1192, 1193, 1197, 1200, 1201, 1203, 1206, 1210, 1212, 1213, 1216, 1217, 1218, 1221, 1227, 1237, 1249, 1252, 1257, 1261, 1267, 1268, 1271, 1273, 1284, 1285, 1296, 1298, 1302, 1320, 1322, 1327, 1331, 1334, 1336, 1337, 1340, 1347, 1348, 1354, 1360, 1361, 1364, 1369, 1370, 1373, 1376, 1379, 1382, 1391, 1392, 1397, 1400, 1412, 1424, 1425, 1430, 1432, 1442, 1443, 1447, 1449, 1454, 1457, 1460, 1461, 1463, 1464, 1467, 1468, 1469, 1470, 1474, 1476, 1489, 1495, 1497, 1498, 1499, 1502, 1512, 1513, 1514, 1515, 1530, 1535, 1540, 1547, 1554, 1556, 1582, 1586, 1588, 1590, 1592, 1593, 1599, 1600, 1602, 1605, 1606, 1610, 1618, 1629, 1630, 1636, 1637, 1639, 1640, 1651, 1661, 1672, 1689, 1695, 1701, 1703, 1706, 1712, 1718, 1733, 1735, 1737, 1738, 1746, 1747, 1748, 1751, 1752, 1753, 1755, 1757, 1759, 1762, 1775, 1785, 1791, 1796, 1797, 1802, 1806, 1807, 1809, 1810, 1815, 1818, 1820, 1821, 1823, 1826, 1827, 1830, 1834, 1835, 1839, 1842, 1852, 1867, 1890, 1894, 1896, 1900, 1902, 1906, 1909, 1912, 1913, 1914, 1915, 1917, 1921, 1923, 1925, 1926, 1930, 1933, 1937, 1949, 1956, 1957, 1960, 1965, 1966, 1972, 1980, 1987, 1991, 1997, 2003, 2004, 2006, 2007, 2009, 2011, 2015, 2016, 2022, 2023, 2025, 2029, 2031, 2036, 2043, 2046, 2047, 2048, 2051, 2053, 2056, 2064, 2071, 2075, 2080, 2081, 2084, 2086, 2087, 2088, 2089, 2090, 2091, 2094, 2103, 2105, 2106, 2113, 2114, 2115, 2117, 2118, 2124, 2126, 2131, 2132, 2135, 2149, 2155, 2160, 2165, 2168, 2169, 2170, 2172, 2181, 2185, 2186, 2188, 2202, 2204, 2223, 2233, 2234, 2235, 2238, 2242, 2249, 2253, 2254, 2256, 2258, 2265, 2267, 2271, 2272, 2273, 2276, 2281, 2285, 2291, 2292, 2293, 2294, 2297, 2305, 2308, 2311, 2323, 2324, 2328, 2329, 2331, 2356, 2365, 2367, 2383, 2386, 2388, 2389, 2395, 2397, 2398, 2400, 2402, 2407, 2413, 2416, 2422, 2424, 2432, 2433, 2434, 2436, 2444, 2448, 2450, 2451, 2452, 2453, 2454, 2458, 2459, 2461, 2462, 2464, 2466, 2467, 2468, 2471, 2472, 2475, 2478, 2480, 2483, 2488, 2490, 2495, 2498, 2515, 2530, 2537, 2539, 2541, 2549, 2550, 2551, 2556, 2559, 2562, 2570, 2581, 2582, 2585, 2586, 2592, 2593, 2619, 2622, 2627, 2633, 2639, 2657, 2660, 2661, 2666, 2672, 2682, 2683, 2684, 2685, 2686, 2694, 2698, 2700, 2702, 2707, 2710, 2713, 2719, 2726, 2729, 2733, 2734, 2735, 2743, 2747, 2760, 2761, 2769, 2770, 2771, 2778, 2780, 2781, 2782, 2784, 2790, 2794, 2803, 2805, 2810, 2814, 2815, 2818, 2822, 2823, 2833, 2835, 2838, 2839, 2845, 2846, 2847, 2850, 2857, 2865, 2867, 2870, 2873, 2875, 2878, 2881, 2882, 2886, 2889, 2907, 2912, 2918, 2919, 2923, 2931, 2933, 2938, 2942, 2943, 2948, 2953, 2959, 2960, 2961, 2970, 2975, 2977, 2978, 2980, 2981, 2983, 2993, 2995, 2999, 3024, 3039, 3040, 3041, 3043, 3046, 3047, 3048, 3049, 3055, 3057, 3061, 3062, 3066, 3067, 3081, 3087, 3097, 3111, 3120, 3131, 3132, 3141, 3143, 3151, 3154, 3156, 3159, 3164, 3168, 3169, 3170, 3171, 3172, 3173, 3182, 3184, 3194, 3201, 3203, 3209, 3212, 3213, 3214, 3224, 3240, 3246, 3248, 3253, 3258, 3259, 3260, 3262, 3270, 3279, 3281, 3282, 3283, 3285, 3287, 3296, 3298, 3301, 3303, 3308, 3310, 3312, 3321, 3326, 3332, 3336, 3342, 3343, 3352, 3357, 3360, 3365, 3375, 3377, 3380, 3391, 3394, 3397, 3399, 3401, 3403, 3404, 3411, 3417, 3429, 3443, 3449, 3450, 3451, 3456, 3462, 3465, 3467, 3468, 3474, 3489, 3497, 3500, 3507, 3513, 3515, 3519, 3525, 3537, 3541, 3542, 3544, 3555, 3564, 3571, 3572, 3575, 3577, 3582, 3583, 3584, 3588, 3589, 3595, 3597, 3602, 3604, 3605, 3611, 3614, 3623, 3625, 3626, 3631, 3632, 3633, 3636, 3642, 3643, 3644, 3646, 3647, 3651, 3654, 3660, 3666, 3668, 3669, 3670, 3674, 3677, 3679, 3681, 3682, 3685, 3686, 3687, 3688, 3691, 3694, 3699, 3703, 3709, 3711, 3712, 3714, 3718, 3725, 3740, 3745, 3749, 3752, 3758, 3775, 3778, 3782, 3785, 3788, 3789, 3792, 3794, 3803, 3813, 3814, 3821, 3834, 3840, 3851, 3855, 3856, 3858, 3861, 3871, 3873, 3874, 3875, 3888, 3890, 3891, 3892, 3895, 3904, 3905, 3907, 3908, 3914, 3915, 3919, 3922, 3942, 3950, 3953, 3954, 3955, 3960, 3964, 3970, 3976, 3978, 3981, 3985, 3987, 3988, 3991, 3998, 4010, 4011, 4017, 4019, 4020, 4030, 4037, 4042, 4046, 4051, 4055, 4056, 4058, 4065, 4070, 4080, 4083, 4088, 4093, 4094, 4101, 4105, 4106, 4108, 4112, 4114, 4116, 4123, 4131, 4132, 4133, 4134, 4142, 4160, 4164, 4166, 4174, 4175, 4177, 4178, 4179, 4180, 4182, 4184, 4190, 4192, 4195, 4196, 4206, 4209, 4214, 4218, 4224, 4237, 4243, 4254, 4258, 4264, 4278, 4285, 4287, 4295, 4297, 4298, 4305, 4315, 4317, 4319, 4323, 4329, 4343, 4347, 4352, 4353, 4359, 4364, 4366, 4368, 4369, 4376, 4388, 4395, 4398, 4407, 4408, 4413, 4417, 4423, 4433, 4434, 4441, 4442, 4446, 4448, 4449, 4452, 4453, 4454, 4456, 4463, 4464, 4477, 4478, 4492, 4497, 4502, 4504, 4507, 4511, 4523, 4542, 4549, 4556, 4566, 4568, 4570, 4571, 4572, 4573, 4575, 4580, 4582, 4585, 4588, 4589, 4592, 4597, 4611, 4615, 4616, 4617, 4618, 4621, 4626, 4627, 4630, 4631, 4645, 4647, 4651, 4652, 4653, 4654, 4657, 4663, 4664, 4667, 4669, 4679, 4680, 4681, 4683, 4693, 4703, 4704, 4706, 4707, 4709, 4713, 4714, 4717, 4718, 4719, 4725, 4726, 4730, 4731, 4739, 4741, 4752, 4753, 4758, 4764, 4765, 4766, 4774, 4776, 4777, 4778, 4791, 4796, 4800, 4806, 4813, 4814, 4818, 4824, 4835, 4838, 4839, 4844, 4850, 4851, 4861, 4862, 4872, 4874, 4877, 4882, 4886, 4891, 4894, 4895, 4896, 4900, 4914, 4921, 4923, 4926, 4930, 4933, 4941, 4943, 4953, 4954, 4955, 4964, 4970, 4971, 4972, 4978, 4982, 4984, 4988, 4991, 4992, 4995, 4998, 5000, 5005, 5008, 5010, 5015, 5019, 5026, 5027, 5032, 5036, 5041, 5043, 5056, 5060, 5062, 5080, 5082, 5086, 5092, 5104, 5110, 5112, 5114, 5122, 5124, 5128, 5129, 5131, 5134, 5141, 5142, 5147, 5152, 5153, 5156, 5159, 5165, 5166, 5167, 5169, 5170, 5172, 5175, 5179, 5182, 5183, 5189, 5190, 5194, 5200, 5207, 5211, 5216, 5221, 5223, 5226, 5230, 5232, 5238, 5242, 5243, 5251, 5257, 5266, 5270, 5271, 5279, 5283, 5298, 5300, 5312, 5314, 5315, 5318, 5321, 5322, 5323, 5328, 5329, 5331, 5334, 5337, 5339, 5340, 5351, 5358, 5363, 5365, 5371, 5373, 5385, 5387, 5393, 5405, 5407, 5411, 5414, 5415, 5420, 5422, 5430, 5447, 5449, 5450, 5451, 5456, 5458, 5460, 5462, 5466, 5467, 5476, 5482, 5485, 5493, 5502, 5511, 5515, 5516, 5519, 5522, 5526, 5529, 5533, 5534, 5538, 5549, 5550, 5551, 5558, 5582, 5583, 5587, 5593, 5596, 5598, 5605, 5608, 5611, 5617, 5623, 5647, 5659, 5660, 5661, 5662, 5664, 5666, 5670, 5671, 5672, 5673, 5674, 5680, 5689, 5697, 5699, 5705, 5707, 5712, 5713, 5714, 5720, 5722, 5723, 5737, 5742, 5743, 5746, 5749, 5750, 5752, 5753, 5756, 5758, 5760, 5774, 5787, 5789, 5790, 5802, 5807, 5809, 5811, 5812, 5817, 5818, 5821, 5822, 5825, 5834, 5839, 5840, 5842, 5854, 5856, 5859, 5869, 5871, 5878, 5879, 5881, 5882, 5883, 5886, 5888, 5897, 5900, 5901, 5913, 5917, 5922, 5924, 5933, 5945, 5949, 5950, 5951, 5952, 5953, 5954, 5965, 5968, 5971, 5980, 5981, 5983, 5992, 5993, 5995, 6000, 6001, 6028, 6036, 6037, 6042, 6043, 6045, 6051, 6063, 6069, 6071, 6078, 6085, 6095, 6096, 6099, 6100, 6101, 6123, 6147, 6149, 6159, 6161, 6164, 6169, 6175, 6195, 6197, 6200, 6207, 6215, 6217, 6219, 6222, 6224, 6234, 6237, 6238, 6248, 6250, 6255, 6258, 6264, 6270, 6278, 6279, 6284, 6285, 6286, 6288, 6290, 6291, 6292, 6294, 6296, 6297, 6308, 6315, 6316, 6320, 6327, 6330, 6332, 6333, 6334, 6347, 6348, 6349, 6354, 6357, 6361, 6365, 6371, 6389, 6391, 6392, 6395, 6404, 6405, 6407, 6410, 6431, 6433, 6438, 6439, 6440, 6441, 6443, 6447, 6455, 6457, 6468, 6486, 6498, 6502, 6505, 6508, 6513, 6516, 6521, 6522, 6525, 6526, 6528, 6532, 6533, 6536, 6552, 6557, 6563, 6576, 6582, 6596, 6598, 6600, 6601, 6603, 6604, 6610, 6611, 6612, 6624, 6626, 6628, 6629, 6638, 6639, 6643, 6648, 6649, 6651, 6653, 6657, 6658, 6670, 6673, 6687, 6688, 6692, 6698, 6708, 6713, 6715, 6716, 6719, 6725, 6726, 6730, 6738, 6747, 6755, 6759, 6760, 6762, 6776, 6778, 6785, 6793, 6800, 6803, 6806, 6817, 6820, 6828, 6829, 6833, 6834, 6842, 6843, 6847, 6850, 6853, 6854, 6859, 6861, 6865, 6866, 6871, 6874, 6875, 6876, 6878, 6881, 6883, 6893, 6895, 6902, 6903, 6910, 6912, 6917, 6928, 6933, 6934, 6935, 6940, 6941, 6945, 6946, 6949, 6957, 6962, 6968, 6984, 6988, 6989, 6991, 6997, 6999, 7003, 7006, 7007, 7012, 7017, 7022, 7041, 7042, 7044, 7047, 7048, 7049, 7050, 7052, 7055, 7056, 7058, 7061, 7062, 7063, 7064, 7071, 7076, 7078, 7080, 7082, 7084, 7086, 7092, 7097, 7098, 7102, 7103, 7106, 7115, 7117, 7118, 7125, 7126, 7127, 7130, 7131, 7133, 7149, 7150, 7152, 7155, 7162, 7163, 7174, 7176, 7179, 7182, 7183, 7186, 7190, 7200, 7208, 7212, 7218, 7224, 7231, 7239, 7242, 7246, 7247, 7249, 7257, 7259, 7262, 7267, 7270, 7272, 7274, 7275, 7277, 7278, 7287, 7302, 7303, 7307, 7309, 7318, 7319, 7328, 7331, 7333, 7335, 7336, 7345, 7350, 7358, 7361, 7368, 7370, 7373, 7375, 7381, 7394, 7398, 7404, 7411, 7412, 7417, 7422, 7426, 7427, 7433, 7435, 7436, 7437, 7439, 7441, 7442, 7446, 7454, 7462, 7466, 7473, 7480, 7486, 7487, 7491, 7493, 7494, 7498, 7505, 7506, 7522, 7528, 7538, 7543, 7548, 7549, 7554, 7561, 7562, 7567, 7575, 7581, 7582, 7587, 7594, 7595, 7596, 7605, 7606, 7615, 7616, 7618, 7624, 7630, 7631, 7633, 7639, 7648, 7650, 7651, 7653, 7655, 7659, 7660, 7661, 7662, 7666, 7667, 7669, 7674, 7680, 7698, 7704, 7707, 7711, 7712, 7717, 7718, 7729, 7730, 7732, 7735, 7736, 7740, 7741, 7745, 7748, 7749, 7753, 7767, 7778, 7780, 7781, 7782, 7784, 7791, 7792, 7798, 7813, 7815, 7818, 7819, 7820, 7833, 7836, 7838, 7839, 7840, 7841, 7842, 7843, 7844, 7845, 7846, 7851, 7853, 7861, 7867, 7887, 7892, 7898, 7902, 7904, 7906, 7910, 7917, 7920, 7922, 7925, 7931, 7934, 7935, 7945, 7949, 7966, 7969, 7973, 7991, 7992, 7996, 8002, 8009, 8018, 8022, 8023, 8025, 8030, 8031, 8038, 8042, 8068, 8071, 8077, 8080, 8083, 8089, 8099, 8103, 8113, 8115]\n",
            "4511\n",
            "(8128, 17)\n"
          ]
        }
      ]
    },
    {
      "cell_type": "code",
      "metadata": {
        "id": "3wZ6JjU-aPp-"
      },
      "source": [
        "def remove(df,ls):\n",
        "   ls=sorted(set(ls))\n",
        "   df=df.drop(ls)\n",
        "   return df"
      ],
      "execution_count": null,
      "outputs": []
    },
    {
      "cell_type": "code",
      "metadata": {
        "colab": {
          "base_uri": "https://localhost:8080/",
          "height": 476
        },
        "id": "OnZsoVHqUFmC",
        "outputId": "5eae0e7f-2e8d-4a45-c3fe-9099e322612d"
      },
      "source": [
        "#car=remove(car,index_list)\n",
        "print(car.shape)\n",
        "car"
      ],
      "execution_count": null,
      "outputs": [
        {
          "output_type": "stream",
          "name": "stdout",
          "text": [
            "(8128, 17)\n"
          ]
        },
        {
          "output_type": "execute_result",
          "data": {
            "text/html": [
              "<div>\n",
              "<style scoped>\n",
              "    .dataframe tbody tr th:only-of-type {\n",
              "        vertical-align: middle;\n",
              "    }\n",
              "\n",
              "    .dataframe tbody tr th {\n",
              "        vertical-align: top;\n",
              "    }\n",
              "\n",
              "    .dataframe thead th {\n",
              "        text-align: right;\n",
              "    }\n",
              "</style>\n",
              "<table border=\"1\" class=\"dataframe\">\n",
              "  <thead>\n",
              "    <tr style=\"text-align: right;\">\n",
              "      <th></th>\n",
              "      <th>year</th>\n",
              "      <th>selling_price</th>\n",
              "      <th>km_driven</th>\n",
              "      <th>mileage</th>\n",
              "      <th>engine</th>\n",
              "      <th>max_power</th>\n",
              "      <th>seats</th>\n",
              "      <th>Manual</th>\n",
              "      <th>Individual</th>\n",
              "      <th>Trustmark Dealer</th>\n",
              "      <th>Diesel</th>\n",
              "      <th>LPG</th>\n",
              "      <th>Petrol</th>\n",
              "      <th>Fourth &amp; Above Owner</th>\n",
              "      <th>Second Owner</th>\n",
              "      <th>Test Drive Car</th>\n",
              "      <th>Third Owner</th>\n",
              "    </tr>\n",
              "  </thead>\n",
              "  <tbody>\n",
              "    <tr>\n",
              "      <th>0</th>\n",
              "      <td>2014</td>\n",
              "      <td>450000</td>\n",
              "      <td>145500</td>\n",
              "      <td>23.40</td>\n",
              "      <td>1248.0</td>\n",
              "      <td>74.00</td>\n",
              "      <td>5.0</td>\n",
              "      <td>1</td>\n",
              "      <td>1</td>\n",
              "      <td>0</td>\n",
              "      <td>1</td>\n",
              "      <td>0</td>\n",
              "      <td>0</td>\n",
              "      <td>0</td>\n",
              "      <td>0</td>\n",
              "      <td>0</td>\n",
              "      <td>0</td>\n",
              "    </tr>\n",
              "    <tr>\n",
              "      <th>1</th>\n",
              "      <td>2014</td>\n",
              "      <td>370000</td>\n",
              "      <td>120000</td>\n",
              "      <td>21.14</td>\n",
              "      <td>1498.0</td>\n",
              "      <td>103.52</td>\n",
              "      <td>5.0</td>\n",
              "      <td>1</td>\n",
              "      <td>1</td>\n",
              "      <td>0</td>\n",
              "      <td>1</td>\n",
              "      <td>0</td>\n",
              "      <td>0</td>\n",
              "      <td>0</td>\n",
              "      <td>1</td>\n",
              "      <td>0</td>\n",
              "      <td>0</td>\n",
              "    </tr>\n",
              "    <tr>\n",
              "      <th>2</th>\n",
              "      <td>2006</td>\n",
              "      <td>158000</td>\n",
              "      <td>140000</td>\n",
              "      <td>17.70</td>\n",
              "      <td>1497.0</td>\n",
              "      <td>78.00</td>\n",
              "      <td>5.0</td>\n",
              "      <td>1</td>\n",
              "      <td>1</td>\n",
              "      <td>0</td>\n",
              "      <td>0</td>\n",
              "      <td>0</td>\n",
              "      <td>1</td>\n",
              "      <td>0</td>\n",
              "      <td>0</td>\n",
              "      <td>0</td>\n",
              "      <td>1</td>\n",
              "    </tr>\n",
              "    <tr>\n",
              "      <th>3</th>\n",
              "      <td>2010</td>\n",
              "      <td>225000</td>\n",
              "      <td>127000</td>\n",
              "      <td>23.00</td>\n",
              "      <td>1396.0</td>\n",
              "      <td>90.00</td>\n",
              "      <td>5.0</td>\n",
              "      <td>1</td>\n",
              "      <td>1</td>\n",
              "      <td>0</td>\n",
              "      <td>1</td>\n",
              "      <td>0</td>\n",
              "      <td>0</td>\n",
              "      <td>0</td>\n",
              "      <td>0</td>\n",
              "      <td>0</td>\n",
              "      <td>0</td>\n",
              "    </tr>\n",
              "    <tr>\n",
              "      <th>4</th>\n",
              "      <td>2007</td>\n",
              "      <td>130000</td>\n",
              "      <td>120000</td>\n",
              "      <td>16.10</td>\n",
              "      <td>1298.0</td>\n",
              "      <td>88.20</td>\n",
              "      <td>5.0</td>\n",
              "      <td>1</td>\n",
              "      <td>1</td>\n",
              "      <td>0</td>\n",
              "      <td>0</td>\n",
              "      <td>0</td>\n",
              "      <td>1</td>\n",
              "      <td>0</td>\n",
              "      <td>0</td>\n",
              "      <td>0</td>\n",
              "      <td>0</td>\n",
              "    </tr>\n",
              "    <tr>\n",
              "      <th>...</th>\n",
              "      <td>...</td>\n",
              "      <td>...</td>\n",
              "      <td>...</td>\n",
              "      <td>...</td>\n",
              "      <td>...</td>\n",
              "      <td>...</td>\n",
              "      <td>...</td>\n",
              "      <td>...</td>\n",
              "      <td>...</td>\n",
              "      <td>...</td>\n",
              "      <td>...</td>\n",
              "      <td>...</td>\n",
              "      <td>...</td>\n",
              "      <td>...</td>\n",
              "      <td>...</td>\n",
              "      <td>...</td>\n",
              "      <td>...</td>\n",
              "    </tr>\n",
              "    <tr>\n",
              "      <th>8123</th>\n",
              "      <td>2013</td>\n",
              "      <td>320000</td>\n",
              "      <td>110000</td>\n",
              "      <td>18.50</td>\n",
              "      <td>1197.0</td>\n",
              "      <td>82.85</td>\n",
              "      <td>5.0</td>\n",
              "      <td>1</td>\n",
              "      <td>1</td>\n",
              "      <td>0</td>\n",
              "      <td>0</td>\n",
              "      <td>0</td>\n",
              "      <td>1</td>\n",
              "      <td>0</td>\n",
              "      <td>0</td>\n",
              "      <td>0</td>\n",
              "      <td>0</td>\n",
              "    </tr>\n",
              "    <tr>\n",
              "      <th>8124</th>\n",
              "      <td>2007</td>\n",
              "      <td>135000</td>\n",
              "      <td>119000</td>\n",
              "      <td>16.80</td>\n",
              "      <td>1493.0</td>\n",
              "      <td>110.00</td>\n",
              "      <td>5.0</td>\n",
              "      <td>1</td>\n",
              "      <td>1</td>\n",
              "      <td>0</td>\n",
              "      <td>1</td>\n",
              "      <td>0</td>\n",
              "      <td>0</td>\n",
              "      <td>1</td>\n",
              "      <td>0</td>\n",
              "      <td>0</td>\n",
              "      <td>0</td>\n",
              "    </tr>\n",
              "    <tr>\n",
              "      <th>8125</th>\n",
              "      <td>2009</td>\n",
              "      <td>382000</td>\n",
              "      <td>120000</td>\n",
              "      <td>19.30</td>\n",
              "      <td>1248.0</td>\n",
              "      <td>73.90</td>\n",
              "      <td>5.0</td>\n",
              "      <td>1</td>\n",
              "      <td>1</td>\n",
              "      <td>0</td>\n",
              "      <td>1</td>\n",
              "      <td>0</td>\n",
              "      <td>0</td>\n",
              "      <td>0</td>\n",
              "      <td>0</td>\n",
              "      <td>0</td>\n",
              "      <td>0</td>\n",
              "    </tr>\n",
              "    <tr>\n",
              "      <th>8126</th>\n",
              "      <td>2013</td>\n",
              "      <td>290000</td>\n",
              "      <td>25000</td>\n",
              "      <td>23.57</td>\n",
              "      <td>1396.0</td>\n",
              "      <td>70.00</td>\n",
              "      <td>5.0</td>\n",
              "      <td>1</td>\n",
              "      <td>1</td>\n",
              "      <td>0</td>\n",
              "      <td>1</td>\n",
              "      <td>0</td>\n",
              "      <td>0</td>\n",
              "      <td>0</td>\n",
              "      <td>0</td>\n",
              "      <td>0</td>\n",
              "      <td>0</td>\n",
              "    </tr>\n",
              "    <tr>\n",
              "      <th>8127</th>\n",
              "      <td>2013</td>\n",
              "      <td>290000</td>\n",
              "      <td>25000</td>\n",
              "      <td>23.57</td>\n",
              "      <td>1396.0</td>\n",
              "      <td>70.00</td>\n",
              "      <td>5.0</td>\n",
              "      <td>1</td>\n",
              "      <td>1</td>\n",
              "      <td>0</td>\n",
              "      <td>1</td>\n",
              "      <td>0</td>\n",
              "      <td>0</td>\n",
              "      <td>0</td>\n",
              "      <td>0</td>\n",
              "      <td>0</td>\n",
              "      <td>0</td>\n",
              "    </tr>\n",
              "  </tbody>\n",
              "</table>\n",
              "<p>8128 rows × 17 columns</p>\n",
              "</div>"
            ],
            "text/plain": [
              "      year  selling_price  km_driven  ...  Second Owner  Test Drive Car  Third Owner\n",
              "0     2014         450000     145500  ...             0               0            0\n",
              "1     2014         370000     120000  ...             1               0            0\n",
              "2     2006         158000     140000  ...             0               0            1\n",
              "3     2010         225000     127000  ...             0               0            0\n",
              "4     2007         130000     120000  ...             0               0            0\n",
              "...    ...            ...        ...  ...           ...             ...          ...\n",
              "8123  2013         320000     110000  ...             0               0            0\n",
              "8124  2007         135000     119000  ...             0               0            0\n",
              "8125  2009         382000     120000  ...             0               0            0\n",
              "8126  2013         290000      25000  ...             0               0            0\n",
              "8127  2013         290000      25000  ...             0               0            0\n",
              "\n",
              "[8128 rows x 17 columns]"
            ]
          },
          "metadata": {},
          "execution_count": 22
        }
      ]
    },
    {
      "cell_type": "code",
      "metadata": {
        "colab": {
          "base_uri": "https://localhost:8080/"
        },
        "id": "HRji7tWequJS",
        "outputId": "95436876-3345-4c84-be8b-efe3302c4769"
      },
      "source": [
        "print(car['seats'].min())\n",
        "print(car['seats'].max())"
      ],
      "execution_count": null,
      "outputs": [
        {
          "output_type": "stream",
          "name": "stdout",
          "text": [
            "2.0\n",
            "14.0\n"
          ]
        }
      ]
    },
    {
      "cell_type": "markdown",
      "metadata": {
        "id": "HJLRxX7KUHvC"
      },
      "source": [
        "# *Data Normalisation*"
      ]
    },
    {
      "cell_type": "code",
      "metadata": {
        "colab": {
          "base_uri": "https://localhost:8080/",
          "height": 241
        },
        "id": "oDilQjr5UJHs",
        "outputId": "446f655c-3d0a-4095-8e98-82ab7afc32b4"
      },
      "source": [
        "from sklearn.preprocessing import MinMaxScaler\n",
        "scaler = MinMaxScaler()\n",
        "\n",
        "# Applying scaler() to all the columns except the 'yes-no' and 'dummy' variables\n",
        "num_vars = ['year','selling_price','km_driven','mileage','engine','max_power','seats']\n",
        "car[num_vars] = scaler.fit_transform(car[num_vars])\n",
        "car.head()"
      ],
      "execution_count": null,
      "outputs": [
        {
          "output_type": "execute_result",
          "data": {
            "text/html": [
              "<div>\n",
              "<style scoped>\n",
              "    .dataframe tbody tr th:only-of-type {\n",
              "        vertical-align: middle;\n",
              "    }\n",
              "\n",
              "    .dataframe tbody tr th {\n",
              "        vertical-align: top;\n",
              "    }\n",
              "\n",
              "    .dataframe thead th {\n",
              "        text-align: right;\n",
              "    }\n",
              "</style>\n",
              "<table border=\"1\" class=\"dataframe\">\n",
              "  <thead>\n",
              "    <tr style=\"text-align: right;\">\n",
              "      <th></th>\n",
              "      <th>year</th>\n",
              "      <th>selling_price</th>\n",
              "      <th>km_driven</th>\n",
              "      <th>mileage</th>\n",
              "      <th>engine</th>\n",
              "      <th>max_power</th>\n",
              "      <th>seats</th>\n",
              "      <th>Manual</th>\n",
              "      <th>Individual</th>\n",
              "      <th>Trustmark Dealer</th>\n",
              "      <th>Diesel</th>\n",
              "      <th>LPG</th>\n",
              "      <th>Petrol</th>\n",
              "      <th>Fourth &amp; Above Owner</th>\n",
              "      <th>Second Owner</th>\n",
              "      <th>Test Drive Car</th>\n",
              "      <th>Third Owner</th>\n",
              "    </tr>\n",
              "  </thead>\n",
              "  <tbody>\n",
              "    <tr>\n",
              "      <th>0</th>\n",
              "      <td>0.837838</td>\n",
              "      <td>0.042126</td>\n",
              "      <td>0.061640</td>\n",
              "      <td>0.557143</td>\n",
              "      <td>0.209396</td>\n",
              "      <td>0.1850</td>\n",
              "      <td>0.25</td>\n",
              "      <td>1</td>\n",
              "      <td>1</td>\n",
              "      <td>0</td>\n",
              "      <td>1</td>\n",
              "      <td>0</td>\n",
              "      <td>0</td>\n",
              "      <td>0</td>\n",
              "      <td>0</td>\n",
              "      <td>0</td>\n",
              "      <td>0</td>\n",
              "    </tr>\n",
              "    <tr>\n",
              "      <th>1</th>\n",
              "      <td>0.837838</td>\n",
              "      <td>0.034102</td>\n",
              "      <td>0.050837</td>\n",
              "      <td>0.503333</td>\n",
              "      <td>0.293289</td>\n",
              "      <td>0.2588</td>\n",
              "      <td>0.25</td>\n",
              "      <td>1</td>\n",
              "      <td>1</td>\n",
              "      <td>0</td>\n",
              "      <td>1</td>\n",
              "      <td>0</td>\n",
              "      <td>0</td>\n",
              "      <td>0</td>\n",
              "      <td>1</td>\n",
              "      <td>0</td>\n",
              "      <td>0</td>\n",
              "    </tr>\n",
              "    <tr>\n",
              "      <th>2</th>\n",
              "      <td>0.621622</td>\n",
              "      <td>0.012839</td>\n",
              "      <td>0.059310</td>\n",
              "      <td>0.421429</td>\n",
              "      <td>0.292953</td>\n",
              "      <td>0.1950</td>\n",
              "      <td>0.25</td>\n",
              "      <td>1</td>\n",
              "      <td>1</td>\n",
              "      <td>0</td>\n",
              "      <td>0</td>\n",
              "      <td>0</td>\n",
              "      <td>1</td>\n",
              "      <td>0</td>\n",
              "      <td>0</td>\n",
              "      <td>0</td>\n",
              "      <td>1</td>\n",
              "    </tr>\n",
              "    <tr>\n",
              "      <th>3</th>\n",
              "      <td>0.729730</td>\n",
              "      <td>0.019559</td>\n",
              "      <td>0.053803</td>\n",
              "      <td>0.547619</td>\n",
              "      <td>0.259060</td>\n",
              "      <td>0.2250</td>\n",
              "      <td>0.25</td>\n",
              "      <td>1</td>\n",
              "      <td>1</td>\n",
              "      <td>0</td>\n",
              "      <td>1</td>\n",
              "      <td>0</td>\n",
              "      <td>0</td>\n",
              "      <td>0</td>\n",
              "      <td>0</td>\n",
              "      <td>0</td>\n",
              "      <td>0</td>\n",
              "    </tr>\n",
              "    <tr>\n",
              "      <th>4</th>\n",
              "      <td>0.648649</td>\n",
              "      <td>0.010030</td>\n",
              "      <td>0.050837</td>\n",
              "      <td>0.383333</td>\n",
              "      <td>0.226174</td>\n",
              "      <td>0.2205</td>\n",
              "      <td>0.25</td>\n",
              "      <td>1</td>\n",
              "      <td>1</td>\n",
              "      <td>0</td>\n",
              "      <td>0</td>\n",
              "      <td>0</td>\n",
              "      <td>1</td>\n",
              "      <td>0</td>\n",
              "      <td>0</td>\n",
              "      <td>0</td>\n",
              "      <td>0</td>\n",
              "    </tr>\n",
              "  </tbody>\n",
              "</table>\n",
              "</div>"
            ],
            "text/plain": [
              "       year  selling_price  ...  Test Drive Car  Third Owner\n",
              "0  0.837838       0.042126  ...               0            0\n",
              "1  0.837838       0.034102  ...               0            0\n",
              "2  0.621622       0.012839  ...               0            1\n",
              "3  0.729730       0.019559  ...               0            0\n",
              "4  0.648649       0.010030  ...               0            0\n",
              "\n",
              "[5 rows x 17 columns]"
            ]
          },
          "metadata": {},
          "execution_count": 24
        }
      ]
    },
    {
      "cell_type": "code",
      "metadata": {
        "id": "0Djw20EbUMT8",
        "colab": {
          "base_uri": "https://localhost:8080/"
        },
        "outputId": "e6e1c6dc-7c55-4234-d859-d0c6ba4a13e3"
      },
      "source": [
        "x = car.drop(['selling_price'],axis=1)\n",
        "y = car['selling_price']\n",
        "car.info()"
      ],
      "execution_count": null,
      "outputs": [
        {
          "output_type": "stream",
          "name": "stdout",
          "text": [
            "<class 'pandas.core.frame.DataFrame'>\n",
            "RangeIndex: 8128 entries, 0 to 8127\n",
            "Data columns (total 17 columns):\n",
            " #   Column                Non-Null Count  Dtype  \n",
            "---  ------                --------------  -----  \n",
            " 0   year                  8128 non-null   float64\n",
            " 1   selling_price         8128 non-null   float64\n",
            " 2   km_driven             8128 non-null   float64\n",
            " 3   mileage               8128 non-null   float64\n",
            " 4   engine                8128 non-null   float64\n",
            " 5   max_power             8128 non-null   float64\n",
            " 6   seats                 8128 non-null   float64\n",
            " 7   Manual                8128 non-null   uint8  \n",
            " 8   Individual            8128 non-null   uint8  \n",
            " 9   Trustmark Dealer      8128 non-null   uint8  \n",
            " 10  Diesel                8128 non-null   uint8  \n",
            " 11  LPG                   8128 non-null   uint8  \n",
            " 12  Petrol                8128 non-null   uint8  \n",
            " 13  Fourth & Above Owner  8128 non-null   uint8  \n",
            " 14  Second Owner          8128 non-null   uint8  \n",
            " 15  Test Drive Car        8128 non-null   uint8  \n",
            " 16  Third Owner           8128 non-null   uint8  \n",
            "dtypes: float64(7), uint8(10)\n",
            "memory usage: 524.0 KB\n"
          ]
        }
      ]
    },
    {
      "cell_type": "markdown",
      "metadata": {
        "id": "wL8H8MPhURhg"
      },
      "source": [
        "# *Split Data*"
      ]
    },
    {
      "cell_type": "code",
      "metadata": {
        "id": "KYdFEA7tUS9Z"
      },
      "source": [
        "from sklearn.model_selection import train_test_split\n",
        "x_train, x_test, y_train, y_test = train_test_split(x,y, test_size = 0.3, random_state = 2)"
      ],
      "execution_count": null,
      "outputs": []
    },
    {
      "cell_type": "markdown",
      "metadata": {
        "id": "itKo3kbGW5jz"
      },
      "source": [
        "# ***Multiple Regression Model***"
      ]
    },
    {
      "cell_type": "markdown",
      "metadata": {
        "id": "2-Babj_MW-AD"
      },
      "source": [
        "# *Model Training*"
      ]
    },
    {
      "cell_type": "code",
      "metadata": {
        "colab": {
          "base_uri": "https://localhost:8080/"
        },
        "id": "wh1TmHB0XAqD",
        "outputId": "e1e19369-569f-4974-b0ba-1f21a5286fff"
      },
      "source": [
        "from sklearn.linear_model import LinearRegression\n",
        "regressor1= LinearRegression()\n",
        "regressor1.fit(x_train,y_train)"
      ],
      "execution_count": null,
      "outputs": [
        {
          "output_type": "execute_result",
          "data": {
            "text/plain": [
              "LinearRegression()"
            ]
          },
          "metadata": {},
          "execution_count": 27
        }
      ]
    },
    {
      "cell_type": "markdown",
      "metadata": {
        "id": "Yj_6gKIkXfru"
      },
      "source": [
        "# *Predicting on training and testing data*"
      ]
    },
    {
      "cell_type": "code",
      "metadata": {
        "id": "IZI-QdCzX2vF"
      },
      "source": [
        "y_train_pred1 = regressor1.predict(x_train)\n",
        "y_test_pred1=regressor1.predict(x_test)"
      ],
      "execution_count": null,
      "outputs": []
    },
    {
      "cell_type": "code",
      "metadata": {
        "colab": {
          "base_uri": "https://localhost:8080/",
          "height": 424
        },
        "id": "__hh0poLYd8b",
        "outputId": "f02af57e-bd5f-45ff-a245-0c46a18f78b9"
      },
      "source": [
        "df = pd.DataFrame({'Actual values':y_train, 'Predicted values':y_train_pred1})\n",
        "df"
      ],
      "execution_count": null,
      "outputs": [
        {
          "output_type": "execute_result",
          "data": {
            "text/html": [
              "<div>\n",
              "<style scoped>\n",
              "    .dataframe tbody tr th:only-of-type {\n",
              "        vertical-align: middle;\n",
              "    }\n",
              "\n",
              "    .dataframe tbody tr th {\n",
              "        vertical-align: top;\n",
              "    }\n",
              "\n",
              "    .dataframe thead th {\n",
              "        text-align: right;\n",
              "    }\n",
              "</style>\n",
              "<table border=\"1\" class=\"dataframe\">\n",
              "  <thead>\n",
              "    <tr style=\"text-align: right;\">\n",
              "      <th></th>\n",
              "      <th>Actual values</th>\n",
              "      <th>Predicted values</th>\n",
              "    </tr>\n",
              "  </thead>\n",
              "  <tbody>\n",
              "    <tr>\n",
              "      <th>6310</th>\n",
              "      <td>0.056670</td>\n",
              "      <td>0.041552</td>\n",
              "    </tr>\n",
              "    <tr>\n",
              "      <th>2219</th>\n",
              "      <td>0.028586</td>\n",
              "      <td>0.028874</td>\n",
              "    </tr>\n",
              "    <tr>\n",
              "      <th>4600</th>\n",
              "      <td>0.017553</td>\n",
              "      <td>0.019924</td>\n",
              "    </tr>\n",
              "    <tr>\n",
              "      <th>2167</th>\n",
              "      <td>0.003009</td>\n",
              "      <td>-0.030837</td>\n",
              "    </tr>\n",
              "    <tr>\n",
              "      <th>5272</th>\n",
              "      <td>0.039619</td>\n",
              "      <td>0.097668</td>\n",
              "    </tr>\n",
              "    <tr>\n",
              "      <th>...</th>\n",
              "      <td>...</td>\n",
              "      <td>...</td>\n",
              "    </tr>\n",
              "    <tr>\n",
              "      <th>3606</th>\n",
              "      <td>0.059178</td>\n",
              "      <td>0.086936</td>\n",
              "    </tr>\n",
              "    <tr>\n",
              "      <th>5704</th>\n",
              "      <td>0.030592</td>\n",
              "      <td>0.016803</td>\n",
              "    </tr>\n",
              "    <tr>\n",
              "      <th>6637</th>\n",
              "      <td>0.042126</td>\n",
              "      <td>0.059876</td>\n",
              "    </tr>\n",
              "    <tr>\n",
              "      <th>2575</th>\n",
              "      <td>0.062287</td>\n",
              "      <td>0.052045</td>\n",
              "    </tr>\n",
              "    <tr>\n",
              "      <th>7336</th>\n",
              "      <td>0.113340</td>\n",
              "      <td>0.215431</td>\n",
              "    </tr>\n",
              "  </tbody>\n",
              "</table>\n",
              "<p>5689 rows × 2 columns</p>\n",
              "</div>"
            ],
            "text/plain": [
              "      Actual values  Predicted values\n",
              "6310       0.056670          0.041552\n",
              "2219       0.028586          0.028874\n",
              "4600       0.017553          0.019924\n",
              "2167       0.003009         -0.030837\n",
              "5272       0.039619          0.097668\n",
              "...             ...               ...\n",
              "3606       0.059178          0.086936\n",
              "5704       0.030592          0.016803\n",
              "6637       0.042126          0.059876\n",
              "2575       0.062287          0.052045\n",
              "7336       0.113340          0.215431\n",
              "\n",
              "[5689 rows x 2 columns]"
            ]
          },
          "metadata": {},
          "execution_count": 29
        }
      ]
    },
    {
      "cell_type": "code",
      "metadata": {
        "colab": {
          "base_uri": "https://localhost:8080/",
          "height": 310
        },
        "id": "caoVS4C0ZWU0",
        "outputId": "486a1cd9-2ea1-4298-963f-2561d31a0070"
      },
      "source": [
        "plt.scatter(y_train,y_train_pred1)\n",
        "plt.title('Training Data \\nMultiple Regression Model')\n",
        "plt.xlabel('Actual values')\n",
        "plt.ylabel('Predicted values')\n",
        "plt.show()"
      ],
      "execution_count": null,
      "outputs": [
        {
          "output_type": "display_data",
          "data": {
            "image/png": "[encoded data removed]",
            "text/plain": [
              "<Figure size 432x288 with 1 Axes>"
            ]
          },
          "metadata": {
            "needs_background": "light"
          }
        }
      ]
    },
    {
      "cell_type": "code",
      "metadata": {
        "colab": {
          "base_uri": "https://localhost:8080/",
          "height": 424
        },
        "id": "_b40SdhFsJoa",
        "outputId": "612b4241-f3b5-498a-f2a2-08332fb4c17b"
      },
      "source": [
        "#Testing data\n",
        "df=pd.DataFrame({'Actual values':y_test, 'Predicted values':y_test_pred1})\n",
        "df"
      ],
      "execution_count": null,
      "outputs": [
        {
          "output_type": "execute_result",
          "data": {
            "text/html": [
              "<div>\n",
              "<style scoped>\n",
              "    .dataframe tbody tr th:only-of-type {\n",
              "        vertical-align: middle;\n",
              "    }\n",
              "\n",
              "    .dataframe tbody tr th {\n",
              "        vertical-align: top;\n",
              "    }\n",
              "\n",
              "    .dataframe thead th {\n",
              "        text-align: right;\n",
              "    }\n",
              "</style>\n",
              "<table border=\"1\" class=\"dataframe\">\n",
              "  <thead>\n",
              "    <tr style=\"text-align: right;\">\n",
              "      <th></th>\n",
              "      <th>Actual values</th>\n",
              "      <th>Predicted values</th>\n",
              "    </tr>\n",
              "  </thead>\n",
              "  <tbody>\n",
              "    <tr>\n",
              "      <th>606</th>\n",
              "      <td>0.017051</td>\n",
              "      <td>0.008721</td>\n",
              "    </tr>\n",
              "    <tr>\n",
              "      <th>7575</th>\n",
              "      <td>0.072217</td>\n",
              "      <td>0.104664</td>\n",
              "    </tr>\n",
              "    <tr>\n",
              "      <th>7705</th>\n",
              "      <td>0.197593</td>\n",
              "      <td>0.190226</td>\n",
              "    </tr>\n",
              "    <tr>\n",
              "      <th>4305</th>\n",
              "      <td>0.002207</td>\n",
              "      <td>0.001939</td>\n",
              "    </tr>\n",
              "    <tr>\n",
              "      <th>2685</th>\n",
              "      <td>0.048144</td>\n",
              "      <td>0.105789</td>\n",
              "    </tr>\n",
              "    <tr>\n",
              "      <th>...</th>\n",
              "      <td>...</td>\n",
              "      <td>...</td>\n",
              "    </tr>\n",
              "    <tr>\n",
              "      <th>2497</th>\n",
              "      <td>0.037111</td>\n",
              "      <td>0.044773</td>\n",
              "    </tr>\n",
              "    <tr>\n",
              "      <th>5894</th>\n",
              "      <td>0.024574</td>\n",
              "      <td>0.053912</td>\n",
              "    </tr>\n",
              "    <tr>\n",
              "      <th>1150</th>\n",
              "      <td>0.075125</td>\n",
              "      <td>0.107699</td>\n",
              "    </tr>\n",
              "    <tr>\n",
              "      <th>1062</th>\n",
              "      <td>0.041123</td>\n",
              "      <td>0.167977</td>\n",
              "    </tr>\n",
              "    <tr>\n",
              "      <th>3851</th>\n",
              "      <td>0.042126</td>\n",
              "      <td>0.046156</td>\n",
              "    </tr>\n",
              "  </tbody>\n",
              "</table>\n",
              "<p>2439 rows × 2 columns</p>\n",
              "</div>"
            ],
            "text/plain": [
              "      Actual values  Predicted values\n",
              "606        0.017051          0.008721\n",
              "7575       0.072217          0.104664\n",
              "7705       0.197593          0.190226\n",
              "4305       0.002207          0.001939\n",
              "2685       0.048144          0.105789\n",
              "...             ...               ...\n",
              "2497       0.037111          0.044773\n",
              "5894       0.024574          0.053912\n",
              "1150       0.075125          0.107699\n",
              "1062       0.041123          0.167977\n",
              "3851       0.042126          0.046156\n",
              "\n",
              "[2439 rows x 2 columns]"
            ]
          },
          "metadata": {},
          "execution_count": 31
        }
      ]
    },
    {
      "cell_type": "code",
      "metadata": {
        "colab": {
          "base_uri": "https://localhost:8080/",
          "height": 310
        },
        "id": "oKneGqyFtvKo",
        "outputId": "6c55aa23-bd96-4c8d-d988-483dbdd92818"
      },
      "source": [
        "plt.scatter(y_test, y_test_pred1, color = 'blue')\n",
        "plt.title('Testing Data \\nMultiple Regression Model')\n",
        "plt.xlabel('Actual values')\n",
        "plt.ylabel('Predicted values')\n",
        "plt.show()"
      ],
      "execution_count": null,
      "outputs": [
        {
          "output_type": "display_data",
          "data": {
            "image/png": "[encoded data removed]",
            "text/plain": [
              "<Figure size 432x288 with 1 Axes>"
            ]
          },
          "metadata": {
            "needs_background": "light"
          }
        }
      ]
    },
    {
      "cell_type": "markdown",
      "metadata": {
        "id": "6VMfTakPv-PK"
      },
      "source": [
        "# *Error Metrics Computation*"
      ]
    },
    {
      "cell_type": "code",
      "metadata": {
        "colab": {
          "base_uri": "https://localhost:8080/"
        },
        "id": "-Fi29Ql5wIpi",
        "outputId": "dd1f3f96-2b6d-4110-c2f4-09f010cb439f"
      },
      "source": [
        "import math as mt\n",
        "from sklearn.metrics import mean_absolute_error\n",
        "from sklearn.metrics import mean_squared_error\n",
        "\n",
        "\n",
        "#Training Accuracies\n",
        "rmse = mt.sqrt(mean_squared_error(y_train, y_train_pred1)) \n",
        "print('Root mean square error', rmse) \n",
        "mse = (mean_squared_error(y_train, y_train_pred1)) \n",
        "print('Mean square error', mse) \n",
        "mae=mean_absolute_error(y_train, y_train_pred1)\n",
        "print('Mean absolute error', mae)"
      ],
      "execution_count": null,
      "outputs": [
        {
          "output_type": "stream",
          "name": "stdout",
          "text": [
            "Root mean square error 0.04608763711681842\n",
            "Mean square error 0.0021240702950115387\n",
            "Mean absolute error 0.027584524424320554\n"
          ]
        }
      ]
    },
    {
      "cell_type": "code",
      "metadata": {
        "colab": {
          "base_uri": "https://localhost:8080/"
        },
        "id": "oWzyKQSsuTou",
        "outputId": "8c7d1937-89fa-4357-d454-59f1a0b944cb"
      },
      "source": [
        "#Testing Accuracies\n",
        "rmse = mt.sqrt(mean_squared_error(y_test, y_test_pred1)) \n",
        "print('Root mean square error', mse) \n",
        "mse = (mean_squared_error(y_test, y_test_pred1)) \n",
        "print('Mean square error', mse) \n",
        "mae=mean_absolute_error(y_test, y_test_pred1)\n",
        "print('Mean absolute error', mae)"
      ],
      "execution_count": null,
      "outputs": [
        {
          "output_type": "stream",
          "name": "stdout",
          "text": [
            "Root mean square error 0.0021240702950115387\n",
            "Mean square error 0.0019305576366817157\n",
            "Mean absolute error 0.02668444721694027\n"
          ]
        }
      ]
    },
    {
      "cell_type": "markdown",
      "metadata": {
        "id": "isbCbT7qvgHL"
      },
      "source": [
        "# ***Decision Tree Model***"
      ]
    },
    {
      "cell_type": "code",
      "metadata": {
        "colab": {
          "base_uri": "https://localhost:8080/"
        },
        "id": "T_3nPMP0vnUB",
        "outputId": "bf8bd1bd-bdc4-49b4-b549-b25bf7c92847"
      },
      "source": [
        "from sklearn.tree import DecisionTreeRegressor\n",
        "from sklearn import tree\n",
        "from sklearn.tree import plot_tree\n",
        "regressor2 = DecisionTreeRegressor(max_depth=100)\n",
        "regressor2.fit(x_train,y_train)"
      ],
      "execution_count": null,
      "outputs": [
        {
          "output_type": "execute_result",
          "data": {
            "text/plain": [
              "DecisionTreeRegressor(max_depth=100)"
            ]
          },
          "metadata": {},
          "execution_count": 63
        }
      ]
    },
    {
      "cell_type": "markdown",
      "metadata": {
        "id": "tKk5S-SuyS1G"
      },
      "source": [
        "# *Prediction*"
      ]
    },
    {
      "cell_type": "code",
      "metadata": {
        "colab": {
          "base_uri": "https://localhost:8080/"
        },
        "id": "FK0L17iRyYzb",
        "outputId": "1b47ff6b-b220-4f4e-c7f3-bf3f47a96d87"
      },
      "source": [
        "#Training data\n",
        "y_train_pred2=regressor2.predict(x_train)\n",
        "df=pd.DataFrame({'Actual values':y_train,'Predicted values':y_train_pred2})\n",
        "df\n"
      ],
      "execution_count": null,
      "outputs": [
        {
          "output_type": "execute_result",
          "data": {
            "text/html": [
              "<div>\n",
              "<style scoped>\n",
              "    .dataframe tbody tr th:only-of-type {\n",
              "        vertical-align: middle;\n",
              "    }\n",
              "\n",
              "    .dataframe tbody tr th {\n",
              "        vertical-align: top;\n",
              "    }\n",
              "\n",
              "    .dataframe thead th {\n",
              "        text-align: right;\n",
              "    }\n",
              "</style>\n",
              "<table border=\"1\" class=\"dataframe\">\n",
              "  <thead>\n",
              "    <tr style=\"text-align: right;\">\n",
              "      <th></th>\n",
              "      <th>Actual values</th>\n",
              "      <th>Predicted values</th>\n",
              "    </tr>\n",
              "  </thead>\n",
              "  <tbody>\n",
              "    <tr>\n",
              "      <th>6310</th>\n",
              "      <td>0.056670</td>\n",
              "      <td>0.056670</td>\n",
              "    </tr>\n",
              "    <tr>\n",
              "      <th>2219</th>\n",
              "      <td>0.028586</td>\n",
              "      <td>0.028586</td>\n",
              "    </tr>\n",
              "    <tr>\n",
              "      <th>4600</th>\n",
              "      <td>0.017553</td>\n",
              "      <td>0.017553</td>\n",
              "    </tr>\n",
              "    <tr>\n",
              "      <th>2167</th>\n",
              "      <td>0.003009</td>\n",
              "      <td>0.003009</td>\n",
              "    </tr>\n",
              "    <tr>\n",
              "      <th>5272</th>\n",
              "      <td>0.039619</td>\n",
              "      <td>0.047392</td>\n",
              "    </tr>\n",
              "    <tr>\n",
              "      <th>...</th>\n",
              "      <td>...</td>\n",
              "      <td>...</td>\n",
              "    </tr>\n",
              "    <tr>\n",
              "      <th>3606</th>\n",
              "      <td>0.059178</td>\n",
              "      <td>0.059178</td>\n",
              "    </tr>\n",
              "    <tr>\n",
              "      <th>5704</th>\n",
              "      <td>0.030592</td>\n",
              "      <td>0.030592</td>\n",
              "    </tr>\n",
              "    <tr>\n",
              "      <th>6637</th>\n",
              "      <td>0.042126</td>\n",
              "      <td>0.042126</td>\n",
              "    </tr>\n",
              "    <tr>\n",
              "      <th>2575</th>\n",
              "      <td>0.062287</td>\n",
              "      <td>0.062287</td>\n",
              "    </tr>\n",
              "    <tr>\n",
              "      <th>7336</th>\n",
              "      <td>0.113340</td>\n",
              "      <td>0.113340</td>\n",
              "    </tr>\n",
              "  </tbody>\n",
              "</table>\n",
              "<p>5689 rows × 2 columns</p>\n",
              "</div>"
            ],
            "text/plain": [
              "      Actual values  Predicted values\n",
              "6310       0.056670          0.056670\n",
              "2219       0.028586          0.028586\n",
              "4600       0.017553          0.017553\n",
              "2167       0.003009          0.003009\n",
              "5272       0.039619          0.047392\n",
              "...             ...               ...\n",
              "3606       0.059178          0.059178\n",
              "5704       0.030592          0.030592\n",
              "6637       0.042126          0.042126\n",
              "2575       0.062287          0.062287\n",
              "7336       0.113340          0.113340\n",
              "\n",
              "[5689 rows x 2 columns]"
            ]
          },
          "metadata": {},
          "execution_count": 64
        }
      ]
    },
    {
      "cell_type": "code",
      "metadata": {
        "colab": {
          "base_uri": "https://localhost:8080/"
        },
        "id": "kO1yW9Ol4OoE",
        "outputId": "ba0415c1-f9ae-43be-ecc8-365f48e0266d"
      },
      "source": [
        "plt.scatter(y_train,y_train_pred2)\n",
        "plt.title('Training Data \\nDecision Tree')\n",
        "plt.xlabel('Actual values')\n",
        "plt.ylabel('Predicted values')\n",
        "plt.show()"
      ],
      "execution_count": null,
      "outputs": [
        {
          "output_type": "display_data",
          "data": {
            "image/png": "[encoded data removed]",
            "text/plain": [
              "<Figure size 432x288 with 1 Axes>"
            ]
          },
          "metadata": {
            "needs_background": "light"
          }
        }
      ]
    },
    {
      "cell_type": "code",
      "metadata": {
        "colab": {
          "base_uri": "https://localhost:8080/"
        },
        "id": "vQJUanzkzFmS",
        "outputId": "3514f535-e09f-4a77-807d-cf7b9dd869ce"
      },
      "source": [
        "#Testing data\n",
        "y_test_pred2=regressor2.predict(x_test)\n",
        "df=pd.DataFrame({'Actual values':y_test,'Predicted values':y_test_pred2})\n",
        "df"
      ],
      "execution_count": null,
      "outputs": [
        {
          "output_type": "execute_result",
          "data": {
            "text/html": [
              "<div>\n",
              "<style scoped>\n",
              "    .dataframe tbody tr th:only-of-type {\n",
              "        vertical-align: middle;\n",
              "    }\n",
              "\n",
              "    .dataframe tbody tr th {\n",
              "        vertical-align: top;\n",
              "    }\n",
              "\n",
              "    .dataframe thead th {\n",
              "        text-align: right;\n",
              "    }\n",
              "</style>\n",
              "<table border=\"1\" class=\"dataframe\">\n",
              "  <thead>\n",
              "    <tr style=\"text-align: right;\">\n",
              "      <th></th>\n",
              "      <th>Actual values</th>\n",
              "      <th>Predicted values</th>\n",
              "    </tr>\n",
              "  </thead>\n",
              "  <tbody>\n",
              "    <tr>\n",
              "      <th>606</th>\n",
              "      <td>0.017051</td>\n",
              "      <td>0.015045</td>\n",
              "    </tr>\n",
              "    <tr>\n",
              "      <th>7575</th>\n",
              "      <td>0.072217</td>\n",
              "      <td>0.072217</td>\n",
              "    </tr>\n",
              "    <tr>\n",
              "      <th>7705</th>\n",
              "      <td>0.197593</td>\n",
              "      <td>0.197593</td>\n",
              "    </tr>\n",
              "    <tr>\n",
              "      <th>4305</th>\n",
              "      <td>0.002207</td>\n",
              "      <td>0.003009</td>\n",
              "    </tr>\n",
              "    <tr>\n",
              "      <th>2685</th>\n",
              "      <td>0.048144</td>\n",
              "      <td>0.042126</td>\n",
              "    </tr>\n",
              "    <tr>\n",
              "      <th>...</th>\n",
              "      <td>...</td>\n",
              "      <td>...</td>\n",
              "    </tr>\n",
              "    <tr>\n",
              "      <th>2497</th>\n",
              "      <td>0.037111</td>\n",
              "      <td>0.032096</td>\n",
              "    </tr>\n",
              "    <tr>\n",
              "      <th>5894</th>\n",
              "      <td>0.024574</td>\n",
              "      <td>0.012036</td>\n",
              "    </tr>\n",
              "    <tr>\n",
              "      <th>1150</th>\n",
              "      <td>0.075125</td>\n",
              "      <td>0.075125</td>\n",
              "    </tr>\n",
              "    <tr>\n",
              "      <th>1062</th>\n",
              "      <td>0.041123</td>\n",
              "      <td>0.041123</td>\n",
              "    </tr>\n",
              "    <tr>\n",
              "      <th>3851</th>\n",
              "      <td>0.042126</td>\n",
              "      <td>0.055166</td>\n",
              "    </tr>\n",
              "  </tbody>\n",
              "</table>\n",
              "<p>2439 rows × 2 columns</p>\n",
              "</div>"
            ],
            "text/plain": [
              "      Actual values  Predicted values\n",
              "606        0.017051          0.015045\n",
              "7575       0.072217          0.072217\n",
              "7705       0.197593          0.197593\n",
              "4305       0.002207          0.003009\n",
              "2685       0.048144          0.042126\n",
              "...             ...               ...\n",
              "2497       0.037111          0.032096\n",
              "5894       0.024574          0.012036\n",
              "1150       0.075125          0.075125\n",
              "1062       0.041123          0.041123\n",
              "3851       0.042126          0.055166\n",
              "\n",
              "[2439 rows x 2 columns]"
            ]
          },
          "metadata": {},
          "execution_count": 66
        }
      ]
    },
    {
      "cell_type": "code",
      "metadata": {
        "colab": {
          "base_uri": "https://localhost:8080/"
        },
        "id": "_9hb_bg24a7e",
        "outputId": "7444f574-fde3-42d3-d3e5-6bfd60556220"
      },
      "source": [
        "plt.scatter(y_test,y_test_pred2)\n",
        "plt.title('Testing Data \\nDecision Tree')\n",
        "plt.xlabel('Actual values')\n",
        "plt.ylabel('Predicted values')\n",
        "plt.show()"
      ],
      "execution_count": null,
      "outputs": [
        {
          "output_type": "display_data",
          "data": {
            "image/png": "[encoded data removed]",
            "text/plain": [
              "<Figure size 432x288 with 1 Axes>"
            ]
          },
          "metadata": {
            "needs_background": "light"
          }
        }
      ]
    },
    {
      "cell_type": "markdown",
      "metadata": {
        "id": "pU9zkbpszpwr"
      },
      "source": [
        "# *Error Computation*"
      ]
    },
    {
      "cell_type": "code",
      "metadata": {
        "colab": {
          "base_uri": "https://localhost:8080/"
        },
        "id": "4485ByY_zspd",
        "outputId": "03d2733d-fc2c-421c-aa3d-3c9e027afa9f"
      },
      "source": [
        "#Training data\n",
        "rmse = mt.sqrt(mean_squared_error(y_train,y_train_pred2))\n",
        "print('Root mean square error: ',rmse)\n",
        "mse = mean_squared_error(y_train,y_train_pred2)\n",
        "print('Mean square error: ',mse)\n",
        "mae = mean_absolute_error(y_train,y_train_pred2)\n",
        "print('Mean absolute error: ',mae) "
      ],
      "execution_count": null,
      "outputs": [
        {
          "output_type": "stream",
          "name": "stdout",
          "text": [
            "Root mean square error:  0.0013763249989242735\n",
            "Mean square error:  1.8942705026639018e-06\n",
            "Mean absolute error:  0.00030902069247443003\n"
          ]
        }
      ]
    },
    {
      "cell_type": "code",
      "metadata": {
        "colab": {
          "base_uri": "https://localhost:8080/"
        },
        "id": "e499zqPW0YCv",
        "outputId": "205973a6-8588-40cf-b7c2-4d32c4e2fad3"
      },
      "source": [
        "#Testing data\n",
        "rmse = mt.sqrt(mean_squared_error(y_test,y_test_pred2))\n",
        "print('Root mean square error: ',rmse)\n",
        "mse = mean_squared_error(y_test,y_test_pred2)\n",
        "print('Mean square error: ',mse)\n",
        "mae = mean_absolute_error(y_test,y_test_pred2)\n",
        "print('Mean absolute error: ',mae) "
      ],
      "execution_count": null,
      "outputs": [
        {
          "output_type": "stream",
          "name": "stdout",
          "text": [
            "Root mean square error:  0.019438612407647552\n",
            "Mean square error:  0.0003778596523347494\n",
            "Mean absolute error:  0.00837140707760513\n"
          ]
        }
      ]
    },
    {
      "cell_type": "code",
      "metadata": {
        "id": "d5rEH-Q6IcXa"
      },
      "source": [
        ""
      ],
      "execution_count": null,
      "outputs": []
    },
    {
      "cell_type": "markdown",
      "metadata": {
        "id": "BB1M6uX4H-od"
      },
      "source": [
        "# ***Random Forest***"
      ]
    },
    {
      "cell_type": "code",
      "metadata": {
        "colab": {
          "base_uri": "https://localhost:8080/"
        },
        "id": "wlRzOicHIbhb",
        "outputId": "1b0bc0f8-e317-42aa-e780-cccb206723ae"
      },
      "source": [
        "from sklearn.ensemble import RandomForestRegressor\n",
        "regressor3=RandomForestRegressor(n_estimators=3,max_depth=3)\n",
        "regressor3.fit(x_train,y_train)"
      ],
      "execution_count": null,
      "outputs": [
        {
          "output_type": "execute_result",
          "data": {
            "text/plain": [
              "RandomForestRegressor(max_depth=3, n_estimators=3)"
            ]
          },
          "metadata": {},
          "execution_count": 111
        }
      ]
    },
    {
      "cell_type": "markdown",
      "metadata": {
        "id": "3sMU4FqALLZW"
      },
      "source": [
        "# *Prediction*"
      ]
    },
    {
      "cell_type": "code",
      "metadata": {
        "id": "G641z8gLLNKs"
      },
      "source": [
        "y_train_pred3=regressor3.predict(x_train)\n",
        "y_test_pred3=regressor3.predict(x_test)"
      ],
      "execution_count": null,
      "outputs": []
    },
    {
      "cell_type": "markdown",
      "metadata": {
        "id": "Oaj5fjuyLehw"
      },
      "source": [
        "# *Model Metrics*"
      ]
    },
    {
      "cell_type": "code",
      "metadata": {
        "colab": {
          "base_uri": "https://localhost:8080/",
          "height": 424
        },
        "id": "FVj6B2xiLggl",
        "outputId": "b7caf15b-a5a4-4c41-9971-0fcc575fa962"
      },
      "source": [
        "df=pd.DataFrame({'Actual values':y_train,'Predicted values':y_train_pred3})\n",
        "df"
      ],
      "execution_count": null,
      "outputs": [
        {
          "output_type": "execute_result",
          "data": {
            "text/html": [
              "<div>\n",
              "<style scoped>\n",
              "    .dataframe tbody tr th:only-of-type {\n",
              "        vertical-align: middle;\n",
              "    }\n",
              "\n",
              "    .dataframe tbody tr th {\n",
              "        vertical-align: top;\n",
              "    }\n",
              "\n",
              "    .dataframe thead th {\n",
              "        text-align: right;\n",
              "    }\n",
              "</style>\n",
              "<table border=\"1\" class=\"dataframe\">\n",
              "  <thead>\n",
              "    <tr style=\"text-align: right;\">\n",
              "      <th></th>\n",
              "      <th>Actual values</th>\n",
              "      <th>Predicted values</th>\n",
              "    </tr>\n",
              "  </thead>\n",
              "  <tbody>\n",
              "    <tr>\n",
              "      <th>6310</th>\n",
              "      <td>0.056670</td>\n",
              "      <td>0.056603</td>\n",
              "    </tr>\n",
              "    <tr>\n",
              "      <th>2219</th>\n",
              "      <td>0.028586</td>\n",
              "      <td>0.029037</td>\n",
              "    </tr>\n",
              "    <tr>\n",
              "      <th>4600</th>\n",
              "      <td>0.017553</td>\n",
              "      <td>0.020913</td>\n",
              "    </tr>\n",
              "    <tr>\n",
              "      <th>2167</th>\n",
              "      <td>0.003009</td>\n",
              "      <td>0.004564</td>\n",
              "    </tr>\n",
              "    <tr>\n",
              "      <th>5272</th>\n",
              "      <td>0.039619</td>\n",
              "      <td>0.049108</td>\n",
              "    </tr>\n",
              "    <tr>\n",
              "      <th>...</th>\n",
              "      <td>...</td>\n",
              "      <td>...</td>\n",
              "    </tr>\n",
              "    <tr>\n",
              "      <th>3606</th>\n",
              "      <td>0.059178</td>\n",
              "      <td>0.063691</td>\n",
              "    </tr>\n",
              "    <tr>\n",
              "      <th>5704</th>\n",
              "      <td>0.030592</td>\n",
              "      <td>0.029689</td>\n",
              "    </tr>\n",
              "    <tr>\n",
              "      <th>6637</th>\n",
              "      <td>0.042126</td>\n",
              "      <td>0.041560</td>\n",
              "    </tr>\n",
              "    <tr>\n",
              "      <th>2575</th>\n",
              "      <td>0.062287</td>\n",
              "      <td>0.065216</td>\n",
              "    </tr>\n",
              "    <tr>\n",
              "      <th>7336</th>\n",
              "      <td>0.113340</td>\n",
              "      <td>0.146590</td>\n",
              "    </tr>\n",
              "  </tbody>\n",
              "</table>\n",
              "<p>5689 rows × 2 columns</p>\n",
              "</div>"
            ],
            "text/plain": [
              "      Actual values  Predicted values\n",
              "6310       0.056670          0.056603\n",
              "2219       0.028586          0.029037\n",
              "4600       0.017553          0.020913\n",
              "2167       0.003009          0.004564\n",
              "5272       0.039619          0.049108\n",
              "...             ...               ...\n",
              "3606       0.059178          0.063691\n",
              "5704       0.030592          0.029689\n",
              "6637       0.042126          0.041560\n",
              "2575       0.062287          0.065216\n",
              "7336       0.113340          0.146590\n",
              "\n",
              "[5689 rows x 2 columns]"
            ]
          },
          "metadata": {},
          "execution_count": 72
        }
      ]
    },
    {
      "cell_type": "code",
      "metadata": {
        "colab": {
          "base_uri": "https://localhost:8080/",
          "height": 310
        },
        "id": "tsvkXaT-4kUB",
        "outputId": "6deb224e-d03c-4210-df8f-18fd21acc547"
      },
      "source": [
        "plt.scatter(y_train,y_train_pred3)\n",
        "plt.title('Training Data \\nRandom Forest')\n",
        "plt.xlabel('Actual values')\n",
        "plt.ylabel('Predicted values')\n",
        "plt.show()"
      ],
      "execution_count": null,
      "outputs": [
        {
          "output_type": "display_data",
          "data": {
            "image/png": "[encoded data removed]",
            "text/plain": [
              "<Figure size 432x288 with 1 Axes>"
            ]
          },
          "metadata": {
            "needs_background": "light"
          }
        }
      ]
    },
    {
      "cell_type": "code",
      "metadata": {
        "colab": {
          "base_uri": "https://localhost:8080/",
          "height": 424
        },
        "id": "_ssBLwhYL3N8",
        "outputId": "0c44e0a8-bf7e-4e78-b18e-9851b0961812"
      },
      "source": [
        "df=pd.DataFrame({'Actual values':y_test,'Predicted values':y_test_pred3})\n",
        "df"
      ],
      "execution_count": null,
      "outputs": [
        {
          "output_type": "execute_result",
          "data": {
            "text/html": [
              "<div>\n",
              "<style scoped>\n",
              "    .dataframe tbody tr th:only-of-type {\n",
              "        vertical-align: middle;\n",
              "    }\n",
              "\n",
              "    .dataframe tbody tr th {\n",
              "        vertical-align: top;\n",
              "    }\n",
              "\n",
              "    .dataframe thead th {\n",
              "        text-align: right;\n",
              "    }\n",
              "</style>\n",
              "<table border=\"1\" class=\"dataframe\">\n",
              "  <thead>\n",
              "    <tr style=\"text-align: right;\">\n",
              "      <th></th>\n",
              "      <th>Actual values</th>\n",
              "      <th>Predicted values</th>\n",
              "    </tr>\n",
              "  </thead>\n",
              "  <tbody>\n",
              "    <tr>\n",
              "      <th>606</th>\n",
              "      <td>0.017051</td>\n",
              "      <td>0.018465</td>\n",
              "    </tr>\n",
              "    <tr>\n",
              "      <th>7575</th>\n",
              "      <td>0.072217</td>\n",
              "      <td>0.074223</td>\n",
              "    </tr>\n",
              "    <tr>\n",
              "      <th>7705</th>\n",
              "      <td>0.197593</td>\n",
              "      <td>0.197593</td>\n",
              "    </tr>\n",
              "    <tr>\n",
              "      <th>4305</th>\n",
              "      <td>0.002207</td>\n",
              "      <td>0.003280</td>\n",
              "    </tr>\n",
              "    <tr>\n",
              "      <th>2685</th>\n",
              "      <td>0.048144</td>\n",
              "      <td>0.048696</td>\n",
              "    </tr>\n",
              "    <tr>\n",
              "      <th>...</th>\n",
              "      <td>...</td>\n",
              "      <td>...</td>\n",
              "    </tr>\n",
              "    <tr>\n",
              "      <th>2497</th>\n",
              "      <td>0.037111</td>\n",
              "      <td>0.035958</td>\n",
              "    </tr>\n",
              "    <tr>\n",
              "      <th>5894</th>\n",
              "      <td>0.024574</td>\n",
              "      <td>0.011515</td>\n",
              "    </tr>\n",
              "    <tr>\n",
              "      <th>1150</th>\n",
              "      <td>0.075125</td>\n",
              "      <td>0.075125</td>\n",
              "    </tr>\n",
              "    <tr>\n",
              "      <th>1062</th>\n",
              "      <td>0.041123</td>\n",
              "      <td>0.049850</td>\n",
              "    </tr>\n",
              "    <tr>\n",
              "      <th>3851</th>\n",
              "      <td>0.042126</td>\n",
              "      <td>0.053701</td>\n",
              "    </tr>\n",
              "  </tbody>\n",
              "</table>\n",
              "<p>2439 rows × 2 columns</p>\n",
              "</div>"
            ],
            "text/plain": [
              "      Actual values  Predicted values\n",
              "606        0.017051          0.018465\n",
              "7575       0.072217          0.074223\n",
              "7705       0.197593          0.197593\n",
              "4305       0.002207          0.003280\n",
              "2685       0.048144          0.048696\n",
              "...             ...               ...\n",
              "2497       0.037111          0.035958\n",
              "5894       0.024574          0.011515\n",
              "1150       0.075125          0.075125\n",
              "1062       0.041123          0.049850\n",
              "3851       0.042126          0.053701\n",
              "\n",
              "[2439 rows x 2 columns]"
            ]
          },
          "metadata": {},
          "execution_count": 74
        }
      ]
    },
    {
      "cell_type": "code",
      "metadata": {
        "colab": {
          "base_uri": "https://localhost:8080/",
          "height": 310
        },
        "id": "skni1LUv4qdZ",
        "outputId": "89382c4e-d72e-4733-ee95-016f88675fa3"
      },
      "source": [
        "plt.scatter(y_test,y_test_pred3)\n",
        "plt.title('Testing Data \\nRandom Forest')\n",
        "plt.xlabel('Actual values')\n",
        "plt.ylabel('Predicted values')\n",
        "plt.show()"
      ],
      "execution_count": null,
      "outputs": [
        {
          "output_type": "display_data",
          "data": {
            "image/png": "[encoded data removed]",
            "text/plain": [
              "<Figure size 432x288 with 1 Axes>"
            ]
          },
          "metadata": {
            "needs_background": "light"
          }
        }
      ]
    },
    {
      "cell_type": "markdown",
      "metadata": {
        "id": "bhZCGXTCME0b"
      },
      "source": [
        "# *Error Computation*"
      ]
    },
    {
      "cell_type": "code",
      "metadata": {
        "colab": {
          "base_uri": "https://localhost:8080/"
        },
        "id": "Figp0IWkMHF8",
        "outputId": "7a041dc5-20fb-4f6a-b201-2d7434262158"
      },
      "source": [
        "#Training error\n",
        "rmse = mt.sqrt(mean_squared_error(y_train,y_train_pred3))\n",
        "print(\"Root mean square error: \",rmse)\n",
        "mse = mean_squared_error(y_train,y_train_pred3)\n",
        "print(\"Mean squared error: \",mse)\n",
        "mae = mean_absolute_error(y_train,y_train_pred3)\n",
        "print(\"Mean absolute error: \",mae)"
      ],
      "execution_count": null,
      "outputs": [
        {
          "output_type": "stream",
          "name": "stdout",
          "text": [
            "Root mean square error:  0.027385911196892855\n",
            "Mean squared error:  0.0007499881320841014\n",
            "Mean absolute error:  0.01746512626470279\n"
          ]
        }
      ]
    },
    {
      "cell_type": "code",
      "metadata": {
        "colab": {
          "base_uri": "https://localhost:8080/"
        },
        "id": "qDM9S0vDMxWf",
        "outputId": "3bfee796-bb97-4fd0-a905-b06cf8767224"
      },
      "source": [
        "#Testing error\n",
        "rmse = mt.sqrt(mean_squared_error(y_test,y_test_pred3))\n",
        "print(\"Root mean square error: \",rmse)\n",
        "mse = mean_squared_error(y_test,y_test_pred3)\n",
        "print(\"Mean squared error: \",mse)\n",
        "mae = mean_absolute_error(y_test,y_test_pred3)\n",
        "print(\"Mean absolute error: \",mae)"
      ],
      "execution_count": null,
      "outputs": [
        {
          "output_type": "stream",
          "name": "stdout",
          "text": [
            "Root mean square error:  0.02874635291860491\n",
            "Mean squared error:  0.000826352806120985\n",
            "Mean absolute error:  0.01775653248072657\n"
          ]
        }
      ]
    },
    {
      "cell_type": "code",
      "metadata": {
        "id": "TRv8NvfQVp6D"
      },
      "source": [
        "import pickle\n",
        "filename='model.pkl'\n",
        "pickle.dump(regressor1,open(filename,'wb'))\n"
      ],
      "execution_count": null,
      "outputs": []
    }
  ]
}